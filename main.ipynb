{
  "cells": [
    {
      "cell_type": "code",
      "execution_count": null,
      "metadata": {
        "colab": {
          "base_uri": "https://localhost:8080/"
        },
        "id": "GU-nxGD5wb2m",
        "outputId": "9b66be46-a32c-4e0d-a3f1-c24386d3be7e"
      },
      "outputs": [
        {
          "output_type": "stream",
          "name": "stdout",
          "text": [
            "Mounted at /content/drive\n"
          ]
        }
      ],
      "source": [
        "from google.colab import drive\n",
        "drive.mount('/content/drive')"
      ]
    },
    {
      "cell_type": "code",
      "execution_count": null,
      "metadata": {
        "colab": {
          "base_uri": "https://localhost:8080/"
        },
        "id": "zRfQaQCcdaUz",
        "outputId": "6a7bad6f-e3d8-4624-91f4-1752732331cd"
      },
      "outputs": [
        {
          "output_type": "stream",
          "name": "stdout",
          "text": [
            "/content/drive/.shortcut-targets-by-id/1Z4iGm8N8wfD0bEVxyzfrnT5o0V5X8xnV/New_datasets/gnq\n"
          ]
        }
      ],
      "source": [
        "%cd /content/drive/MyDrive/New_datasets/gnq"
      ]
    },
    {
      "cell_type": "markdown",
      "metadata": {
        "id": "OQDJ7ms8gFTj"
      },
      "source": [
        "#Setting up libraries"
      ]
    },
    {
      "cell_type": "code",
      "execution_count": null,
      "metadata": {
        "id": "sHv0q0eMdmbM"
      },
      "outputs": [],
      "source": [
        "# pip installing all the libraries\n",
        "%%capture\n",
        "!pip install jax\n",
        "!pip install flax\n",
        "!pip install sentencepiece\n",
        "!pip install transformers\n",
        "!pip install -U sentence-transformers\n",
        "\n"
      ]
    },
    {
      "cell_type": "code",
      "execution_count": null,
      "metadata": {
        "colab": {
          "base_uri": "https://localhost:8080/"
        },
        "id": "r7kedGU8dpJv",
        "outputId": "fd676c8b-de5b-4bf8-a495-26045248db58"
      },
      "outputs": [
        {
          "output_type": "stream",
          "name": "stdout",
          "text": [
            "[nltk_data] Downloading package punkt to /root/nltk_data...\n",
            "[nltk_data]   Unzipping tokenizers/punkt.zip.\n"
          ]
        }
      ],
      "source": [
        "#All the imports\n",
        "from google.colab import output\n",
        "import pandas as pd\n",
        "import pickle\n",
        "import jax\n",
        "from gensim.summarization.summarizer import summarize\n",
        "from gensim.summarization import keywords\n",
        "import jax.numpy as jnp\n",
        "from transformers import AutoTokenizer, AutoModelForSequenceClassification\n",
        "from transformers import DPRContextEncoder, DPRContextEncoderTokenizer\n",
        "import torch\n",
        "import torch\n",
        "import urllib3\n",
        "import requests\n",
        "import re\n",
        "import pickle\n",
        "from googlesearch import search\n",
        "import warnings\n",
        "warnings.filterwarnings('ignore')\n",
        "import pandas as pd\n",
        "import numpy as np\n",
        "import requests\n",
        "from bs4 import BeautifulSoup\n",
        "import timeit\n",
        "import nltk\n",
        "import textwrap\n",
        "nltk.download('punkt')\n",
        "from sklearn.feature_extraction.text import TfidfVectorizer\n",
        "import re\n",
        "import numpy as np\n",
        "from transformers import FlaxBigBirdForQuestionAnswering, BigBirdTokenizer\n",
        "# import gradio as gr\n",
        "import warnings\n",
        "warnings.filterwarnings('ignore')\n",
        "from urllib.parse import urlparse\n",
        "\n",
        "\n"
      ]
    },
    {
      "cell_type": "markdown",
      "metadata": {
        "id": "WgH8cmkzgKPF"
      },
      "source": [
        "#Utilites and Functions\n"
      ]
    },
    {
      "cell_type": "code",
      "execution_count": null,
      "metadata": {
        "id": "U5d1ViE9dfXV"
      },
      "outputs": [],
      "source": [
        "\n",
        "torch.set_grad_enabled(False)\n",
        "ctx_encoder = DPRContextEncoder.from_pretrained(\"facebook/dpr-ctx_encoder-single-nq-base\")\n",
        "ctx_tokenizer = DPRContextEncoderTokenizer.from_pretrained(\"facebook/dpr-ctx_encoder-single-nq-base\")"
      ]
    },
    {
      "cell_type": "code",
      "execution_count": null,
      "metadata": {
        "id": "HfMOMqJkggaj"
      },
      "outputs": [],
      "source": [
        "model_dpr = DPRContextEncoder.from_pretrained('facebook/dpr-ctx_encoder-single-nq-base')\n"
      ]
    },
    {
      "cell_type": "code",
      "execution_count": null,
      "metadata": {
        "id": "1shckVighILl"
      },
      "outputs": [],
      "source": [
        "from transformers import DPRQuestionEncoder, DPRQuestionEncoderTokenizer\n",
        "q_encoder = DPRQuestionEncoder.from_pretrained(\"facebook/dpr-question_encoder-single-nq-base\")\n",
        "q_tokenizer = DPRQuestionEncoderTokenizer.from_pretrained(\"facebook/dpr-question_encoder-single-nq-base\")"
      ]
    },
    {
      "cell_type": "code",
      "execution_count": null,
      "metadata": {
        "colab": {
          "base_uri": "https://localhost:8080/"
        },
        "id": "dZoON02Pkof5",
        "outputId": "37f003c6-304e-4353-9a18-87fb4ea06430"
      },
      "outputs": [
        {
          "output_type": "stream",
          "name": "stdout",
          "text": [
            "FullArgSpec(args=['self', 'text', 'text_pair', 'add_special_tokens', 'padding', 'truncation', 'max_length', 'stride', 'is_split_into_words', 'pad_to_multiple_of', 'return_tensors', 'return_token_type_ids', 'return_attention_mask', 'return_overflowing_tokens', 'return_special_tokens_mask', 'return_offsets_mapping', 'return_length', 'verbose'], varargs=None, varkw='kwargs', defaults=(None, True, False, False, None, 0, False, None, None, None, None, False, False, False, False, True), kwonlyargs=[], kwonlydefaults=None, annotations={'return': <class 'transformers.tokenization_utils_base.BatchEncoding'>, 'text': typing.Union[str, typing.List[str], typing.List[typing.List[str]]], 'text_pair': typing.Union[str, typing.List[str], typing.List[typing.List[str]], NoneType], 'add_special_tokens': <class 'bool'>, 'padding': typing.Union[bool, str, transformers.file_utils.PaddingStrategy], 'truncation': typing.Union[bool, str, transformers.tokenization_utils_base.TruncationStrategy], 'max_length': typing.Union[int, NoneType], 'stride': <class 'int'>, 'is_split_into_words': <class 'bool'>, 'pad_to_multiple_of': typing.Union[int, NoneType], 'return_tensors': typing.Union[str, transformers.file_utils.TensorType, NoneType], 'return_token_type_ids': typing.Union[bool, NoneType], 'return_attention_mask': typing.Union[bool, NoneType], 'return_overflowing_tokens': <class 'bool'>, 'return_special_tokens_mask': <class 'bool'>, 'return_offsets_mapping': <class 'bool'>, 'return_length': <class 'bool'>, 'verbose': <class 'bool'>})\n"
          ]
        }
      ],
      "source": [
        "import inspect\n",
        "from pprint import pprint\n",
        "\n",
        "pprint(inspect.getfullargspec(q_tokenizer))"
      ]
    },
    {
      "cell_type": "code",
      "execution_count": null,
      "metadata": {
        "colab": {
          "base_uri": "https://localhost:8080/",
          "height": 35
        },
        "id": "cLBjLB35tuGZ",
        "outputId": "7ca3d210-b475-4ac3-db99-5eacb4e2fced"
      },
      "outputs": [
        {
          "data": {
            "text/html": [
              "\n",
              "  <style>\n",
              "    pre {\n",
              "        white-space: pre-wrap;\n",
              "    }\n",
              "  </style>\n",
              "  "
            ],
            "text/plain": [
              "<IPython.core.display.HTML object>"
            ]
          },
          "metadata": {},
          "output_type": "display_data"
        },
        {
          "data": {
            "text/plain": [
              "FullArgSpec(args=['self'], varargs='input', varkw='kwargs', defaults=None, kwonlyargs=[], kwonlydefaults=None, annotations={})"
            ]
          },
          "execution_count": 60,
          "metadata": {},
          "output_type": "execute_result"
        }
      ],
      "source": [
        "inspect.getfullargspec(ctx_encoder\n",
        "                      )"
      ]
    },
    {
      "cell_type": "code",
      "execution_count": null,
      "metadata": {
        "colab": {
          "base_uri": "https://localhost:8080/",
          "height": 17
        },
        "id": "A4k9VIJ0qkA0",
        "outputId": "77051cf8-0f19-40ba-a5b5-87463f08c58d"
      },
      "outputs": [
        {
          "data": {
            "text/html": [
              "\n",
              "  <style>\n",
              "    pre {\n",
              "        white-space: pre-wrap;\n",
              "    }\n",
              "  </style>\n",
              "  "
            ],
            "text/plain": [
              "<IPython.core.display.HTML object>"
            ]
          },
          "metadata": {},
          "output_type": "display_data"
        }
      ],
      "source": [
        "j = ctx_encoder(j).pooler_output\n",
        "k = q_encoder(k).pooler_output"
      ]
    },
    {
      "cell_type": "code",
      "execution_count": null,
      "metadata": {
        "colab": {
          "base_uri": "https://localhost:8080/",
          "height": 17
        },
        "id": "VMlSXIeluY4E",
        "outputId": "5e02e033-2f57-4438-8c89-9122e3ffefee"
      },
      "outputs": [
        {
          "data": {
            "text/html": [
              "\n",
              "  <style>\n",
              "    pre {\n",
              "        white-space: pre-wrap;\n",
              "    }\n",
              "  </style>\n",
              "  "
            ],
            "text/plain": [
              "<IPython.core.display.HTML object>"
            ]
          },
          "metadata": {},
          "output_type": "display_data"
        }
      ],
      "source": [
        "l = k@(j.T)"
      ]
    },
    {
      "cell_type": "code",
      "execution_count": null,
      "metadata": {
        "id": "1iwFtddcurYl"
      },
      "outputs": [],
      "source": [
        "def xyz(ques, cont):\n",
        "\n",
        "  ctx_tokens = ctx_tokenizer(cont, max_length = 512, truncation = True, return_tensors='pt')[\"input_ids\"]\n",
        "  q_tokens = q_tokenizer(ques,return_tensors='pt')[\"input_ids\"]\n",
        "  ctx_encoded = ctx_encoder(ctx_tokens).pooler_output\n",
        "  q_encoded = q_encoder(q_tokens).pooler_output\n",
        "  similarity = (q_encoded@(ctx_encoded.T)).item()\n",
        "\n",
        "  return similarity"
      ]
    },
    {
      "cell_type": "code",
      "execution_count": null,
      "metadata": {
        "colab": {
          "base_uri": "https://localhost:8080/"
        },
        "id": "ipkELQoY3Kou",
        "outputId": "62556527-5048-448e-cdf7-011f39ab1561"
      },
      "outputs": [
        {
          "output_type": "stream",
          "name": "stdout",
          "text": [
            "[nltk_data] Downloading package punkt to /root/nltk_data...\n",
            "[nltk_data]   Package punkt is already up-to-date!\n"
          ]
        },
        {
          "output_type": "execute_result",
          "data": {
            "text/plain": [
              "True"
            ]
          },
          "metadata": {},
          "execution_count": 10
        }
      ],
      "source": [
        "\n",
        "nltk.download('punkt')"
      ]
    },
    {
      "cell_type": "code",
      "execution_count": null,
      "metadata": {
        "colab": {
          "base_uri": "https://localhost:8080/",
          "height": 35
        },
        "id": "aesHBCu640LT",
        "outputId": "e0d0f289-2b54-44ed-ce3f-3f56d76ab1a5"
      },
      "outputs": [
        {
          "data": {
            "text/html": [
              "\n",
              "  <style>\n",
              "    pre {\n",
              "        white-space: pre-wrap;\n",
              "    }\n",
              "  </style>\n",
              "  "
            ],
            "text/plain": [
              "<IPython.core.display.HTML object>"
            ]
          },
          "metadata": {},
          "output_type": "display_data"
        },
        {
          "data": {
            "text/plain": [
              "28"
            ]
          },
          "execution_count": 136,
          "metadata": {},
          "output_type": "execute_result"
        }
      ],
      "source": [
        "len(cl)"
      ]
    },
    {
      "cell_type": "code",
      "execution_count": null,
      "metadata": {
        "id": "C_z0QxyKwUIZ"
      },
      "outputs": [],
      "source": [
        "\n",
        "def combine_strs(list_of_str):\n",
        "  ans_list = []\n",
        "  i=0\n",
        "  deli.deli_2()\n",
        "  print('Entering combine_strs')\n",
        "  while i < (len(list_of_str)):\n",
        "    j = i\n",
        "    temp_str =\"\"\n",
        "    while(j<len(list_of_str) and len(temp_str.split(\" \"))<256):\n",
        "      temp_str+=list_of_str[j]+\" \"\n",
        "      # print(temp_str)\n",
        "      j+=1\n",
        "    ans_list.append(temp_str)\n",
        "    i=j\n",
        "  print('exiting combine_strs -----' , len(ans_list))\n",
        "  deli.deli_2()\n",
        "  return ans_list\n",
        "\n",
        "def rank_pass(q,ct,alpha=0.5):\n",
        "  cl = nltk.sent_tokenize(ct)\n",
        "\n",
        "\n",
        "  print(len(cl))\n",
        "  if len(cl) > 3000:\n",
        "    cl = combine_strs(cl)\n",
        "\n",
        "  similarity_scores = [xyz(q,a) for i,a in enumerate(cl)]\n",
        "  # similarity_scores = sorted(similarity_scores, reverse = True)\n",
        "\n",
        "  similarity_scores = np.array(similarity_scores)\n",
        "  # print(similarity_scores)\n",
        "  mean = np.mean(similarity_scores)\n",
        "  std = np.std(similarity_scores) * alpha\n",
        "  thresh1 = mean+std\n",
        "  # s1 = np.where(similarity_scores >= thresh2,1,0)\n",
        "  s2 = np.where(similarity_scores >= thresh1,1,0)\n",
        "  s = np.where(s2 == 1)[0]\n",
        "  # print(s)\n",
        "  cl_list = [cl[j] for j in s]\n",
        "\n",
        "  return \" \".join(cl_list)\n",
        "\n",
        "def rank_passages_3(df_c,top_k=9):\n",
        "  df_c=df_c.fillna(\"\")\n",
        "  df_ans = pd.DataFrame()\n",
        "  # len_array=[]\n",
        "  for i, k in df_c.iterrows():\n",
        "    row_dict={}\n",
        "    for j in range(10):\n",
        "      print(\"Index\",i,j)\n",
        "      passage_ranker=[]\n",
        "      q=df_c['query'].iloc[i]\n",
        "\n",
        "      content= df_c[str(j) +\"_Content\"].iloc[i]\n",
        "      # printw(\"Question \"+str(i) +\":\" + q)\n",
        "      # printw(\"Content \"+str(j) +\":\" + df_c[str(j) +\"_Link\"].iloc[i])\n",
        "      if(content==\" this is a meaningless content due to repetition and timeout as well\"):\n",
        "        row_dict[str(j)] =\" this is a meaningless content due to repetition and timeout as well\"\n",
        "        continue\n",
        "      start = timeit.timeit()\n",
        "      if i == 58 and j ==6:\n",
        "        row_dict[str(j)] = \" this is a meaningless content due to repetition and timeout as well\"\n",
        "        continue\n",
        "      row_dict[str(j)] = rank_pass(q,content)\n",
        "      end = timeit.timeit()\n",
        "      print(end-start)\n",
        "\n",
        "    df_ans  = df_ans.append(row_dict,ignore_index=True)\n",
        "  # print(make_histogram(len_array))\n",
        "  return df_ans"
      ]
    },
    {
      "cell_type": "code",
      "execution_count": null,
      "metadata": {
        "id": "cU-P06VodXOT"
      },
      "outputs": [],
      "source": [
        "#Word Wrap\n",
        "from IPython.display import HTML, display\n",
        "\n",
        "def set_css():\n",
        "  display(HTML('''\n",
        "  <style>\n",
        "    pre {\n",
        "        white-space: pre-wrap;\n",
        "    }\n",
        "  </style>\n",
        "  '''))\n",
        "get_ipython().events.register('pre_run_cell', set_css)"
      ]
    },
    {
      "cell_type": "code",
      "execution_count": null,
      "metadata": {
        "colab": {
          "base_uri": "https://localhost:8080/",
          "height": 17
        },
        "id": "r8aiczG9f1Nk",
        "outputId": "f73e4dc0-2353-47c4-91e1-8a5c1243d2f7"
      },
      "outputs": [
        {
          "output_type": "display_data",
          "data": {
            "text/html": [
              "\n",
              "  <style>\n",
              "    pre {\n",
              "        white-space: pre-wrap;\n",
              "    }\n",
              "  </style>\n",
              "  "
            ],
            "text/plain": [
              "<IPython.core.display.HTML object>"
            ]
          },
          "metadata": {}
        }
      ],
      "source": [
        "#utils\n",
        "class deli:\n",
        "  @staticmethod\n",
        "  def deli_1():\n",
        "    print(\"_______________ this is a delimiter _______________\")\n",
        "  @staticmethod\n",
        "  def deli_2():\n",
        "    print(\"_______________________________________________________________________________________________\")\n",
        "  @staticmethod\n",
        "  def deli_3():\n",
        "    print(\"========================================================================\")\n",
        "def list_to_str(some_list):\n",
        "  return \" \".join(some_list)\n",
        "def split_into_sent(content):\n",
        "  a_list = nltk.tokenize.sent_tokenize(content)\n",
        "  return a_list\n",
        "\n",
        "def harmonic_mean(a):\n",
        "  b=a[1]\n",
        "  a=a[0]\n",
        "  if a==0 or b==0:\n",
        "    return 0\n",
        "  else:\n",
        "    return 2*a*b/(a+b)\n",
        "import re\n",
        "CLEANR = re.compile('<.*?>')\n",
        "spaces = re.compile(' +')\n",
        "# delimiters = re.compile('')\n",
        "\n",
        "def cleanhtml(raw_html):\n",
        "  cleantext = re.sub(CLEANR, ' ', raw_html)\n",
        "  cleantext = re.sub(spaces, ' ', cleantext)\n",
        "  return cleantext\n",
        "\n",
        "def simplify(st):\n",
        "  temp = cleanhtml(st)\n",
        "  temp = temp.replace('\\n',' ')\n",
        "  temp = temp.replace('\\t',' ')\n",
        "  return temp\n",
        "\n",
        "\n",
        "def printw(f):\n",
        "  wrapper = textwrap.TextWrapper(width=180)\n",
        "\n",
        "  word_list = wrapper.wrap(text=f)\n",
        "\n",
        "# Print each line.\n",
        "  for element in word_list:\n",
        "    print(element)\n",
        "\n",
        "def make_histogram(y):\n",
        "  hist= {}\n",
        "  for i in y:\n",
        "    hist[i] = hist.get(i,0)+1\n",
        "  return hist\n",
        "def combine_strs(list_of_str):\n",
        "  ans_list = []\n",
        "  i=0\n",
        "  while i < (len(list_of_str)):\n",
        "    j = i\n",
        "    temp_str =\"\"\n",
        "    while(j<len(list_of_str) and len(temp_str.split(\" \"))<256):\n",
        "      temp_str+=list_of_str[j]+\" \"\n",
        "      # print(temp_str)\n",
        "      j+=1\n",
        "    ans_list.append(temp_str)\n",
        "    i=j\n",
        "  return ans_list\n",
        "\n"
      ]
    },
    {
      "cell_type": "markdown",
      "metadata": {
        "id": "OSWzT7QjgPJ9"
      },
      "source": [
        "#Define Models\n"
      ]
    },
    {
      "cell_type": "code",
      "execution_count": null,
      "metadata": {
        "colab": {
          "base_uri": "https://localhost:8080/",
          "height": 121
        },
        "id": "l_HD88DMdcDl",
        "outputId": "8a02abfb-ca9c-4d01-c44b-6e086648d2f0"
      },
      "outputs": [
        {
          "output_type": "display_data",
          "data": {
            "text/html": [
              "\n",
              "  <style>\n",
              "    pre {\n",
              "        white-space: pre-wrap;\n",
              "    }\n",
              "  </style>\n",
              "  "
            ],
            "text/plain": [
              "<IPython.core.display.HTML object>"
            ]
          },
          "metadata": {}
        },
        {
          "output_type": "stream",
          "name": "stderr",
          "text": [
            "Some weights of the model checkpoint at vasudevgupta/flax-bigbird-natural-questions were not used when initializing FlaxBigBirdForQuestionAnswering: {('bert', 'pooler', 'bias'), ('cls', 'bias'), ('bert', 'pooler', 'kernel'), ('cls', 'kernel')}\n",
            "- This IS expected if you are initializing FlaxBigBirdForQuestionAnswering from the checkpoint of a model trained on another task or with another architecture (e.g. initializing a BertForSequenceClassification model from a BertForPreTraining model).\n",
            "- This IS NOT expected if you are initializing FlaxBigBirdForQuestionAnswering from the checkpoint of a model that you expect to be exactly identical (initializing a BertForSequenceClassification model from a BertForSequenceClassification model).\n"
          ]
        }
      ],
      "source": [
        "%%capture\n",
        "FLAX_MODEL_ID = \"vasudevgupta/flax-bigbird-natural-questions\"\n",
        "model_qa = FlaxBigBirdForQuestionAnswering.from_pretrained(FLAX_MODEL_ID, block_size=64, num_random_blocks=3)\n",
        "tokenizer_qa = BigBirdTokenizer.from_pretrained(FLAX_MODEL_ID)\n",
        "\n",
        "@jax.jit\n",
        "def forward(*args, **kwargs):\n",
        "  return model_qa(*args, **kwargs)\n",
        "\n",
        "def get_answer(question, context):\n",
        "\n",
        "    encoding = tokenizer(question, context, return_tensors=\"jax\", max_length=4096, padding=\"max_length\", truncation=True)\n",
        "    start_scores, end_scores = forward(**encoding).to_tuple()\n",
        "\n",
        "    all_tokens = tokenizer.convert_ids_to_tokens(encoding[\"input_ids\"][0].tolist())\n",
        "\n",
        "    answer_tokens = all_tokens[jnp.argmax(start_scores): jnp.argmax(end_scores)+1]\n",
        "    answer = tokenizer.decode(tokenizer.convert_tokens_to_ids(answer_tokens))\n",
        "\n",
        "    return answer\n",
        "def run_code():\n",
        "  question = input(\"Type your question here : \")\n",
        "  context = input(\"Paste the context here : \")\n",
        "  ans = get_answer(question, context)\n",
        "  print(\"Lets see :- \")\n",
        "  print(ans)\n"
      ]
    },
    {
      "cell_type": "code",
      "execution_count": null,
      "metadata": {
        "colab": {
          "base_uri": "https://localhost:8080/",
          "height": 17
        },
        "id": "Xz3bc1IGfw1P",
        "outputId": "a2e1d599-f143-42ef-a8fc-02473d340d6c"
      },
      "outputs": [
        {
          "output_type": "display_data",
          "data": {
            "text/html": [
              "\n",
              "  <style>\n",
              "    pre {\n",
              "        white-space: pre-wrap;\n",
              "    }\n",
              "  </style>\n",
              "  "
            ],
            "text/plain": [
              "<IPython.core.display.HTML object>"
            ]
          },
          "metadata": {}
        }
      ],
      "source": [
        "def get_answer_1(question, context):\n",
        "  # print(\"I am in this function\")\n",
        "  if(context==\" this is a meaningless content due to repetition and timeout as well\"):\n",
        "    return (\"No Answer due to meaningless content due to repetition and timeout as well\",(0,0))\n",
        "\n",
        "  encoding = tokenizer_qa(question, context, return_tensors=\"jax\", max_length=4096, padding=\"max_length\", truncation=False)\n",
        "  start_scores, end_scores = forward(**encoding).to_tuple()\n",
        "  # print(start_scores.shape, end_scores)\n",
        "  # Let's take the most likely token using `argmax` and retrieve the answer\n",
        "  all_tokens = tokenizer_qa.convert_ids_to_tokens(encoding[\"input_ids\"][0].tolist())\n",
        "  # print(all_tokens)\n",
        "  g = (jnp.max(start_scores), jnp.max(end_scores))\n",
        "  start_token = jnp.argmax(start_scores)\n",
        "  end_token =  jnp.argmax(end_scores)\n",
        "  answer_tokens = all_tokens[start_token: end_token+1]\n",
        "  answer = tokenizer_qa.decode(tokenizer_qa.convert_tokens_to_ids(answer_tokens))\n",
        "  answer=answer.replace(\"[SEP]\", \"\")\n",
        "  answer=answer.replace(\"[CLS]\", \"\")\n",
        "  # print(start_token, end_token)\n",
        "  if(answer==\"\"):\n",
        "    # print(\"Stuck here\")\n",
        "    # print(end_scores.shape)\n",
        "    end_token_ = jax.numpy.argsort((end_scores[0]))\n",
        "    # print(end_token_, end_scores, \"Sanity Check\")\n",
        "    # pprint(list(end_scores[0]))\n",
        "    if(len(end_token_)==1):\n",
        "      answer = \"No Meaningful Answer due to lack of content only 1 word\"\n",
        "    else:\n",
        "      # print(\"I am here\")\n",
        "      end_token = end_token_[-2]\n",
        "      g = (g[0],end_scores[0][end_token_[-2]])\n",
        "      answer_tokens = all_tokens[start_token: end_token+1]\n",
        "      answer = tokenizer_qa.decode(tokenizer_qa.convert_tokens_to_ids(answer_tokens))\n",
        "      answer=answer.replace(\"[SEP]\", \"\")\n",
        "      answer=answer.replace(\"[CLS]\", \"\")\n",
        "\n",
        "    # print(g, ((start_scores), (end_scores)))\n",
        "  answer=answer.replace(\"⁇\", \"\")\n",
        "  if(answer ==\"\" or answer ==\" \"):\n",
        "    g = (1 if g[0]==0 else g[0],0)\n",
        "  # print(\"I am leaving this function\")\n",
        "  return (answer,g)"
      ]
    },
    {
      "cell_type": "markdown",
      "metadata": {
        "id": "3dDgp2IcgStd"
      },
      "source": [
        "#Crawler\n"
      ]
    },
    {
      "cell_type": "code",
      "execution_count": null,
      "metadata": {
        "colab": {
          "base_uri": "https://localhost:8080/"
        },
        "id": "F0zL-35Eee9M",
        "outputId": "b01209e7-2449-45b8-b86e-7e3d14e5e70c"
      },
      "outputs": [
        {
          "output_type": "display_data",
          "data": {
            "text/html": [
              "\n",
              "  <style>\n",
              "    pre {\n",
              "        white-space: pre-wrap;\n",
              "    }\n",
              "  </style>\n",
              "  "
            ],
            "text/plain": [
              "<IPython.core.display.HTML object>"
            ]
          },
          "metadata": {}
        }
      ],
      "source": [
        "def google_search(q, n, ls):\n",
        "  for j in search(q, tld=\"com\", num=10, stop=10, pause=2):\n",
        "      ls.append(j)\n",
        "\n",
        "\n",
        "def scraper(query_list,n_links=10):\n",
        "  df = pd.DataFrame()\n",
        "  count_F=0\n",
        "  for i,q in enumerate(query_list):\n",
        "    print(\"i->\", i)\n",
        "    row =dict()\n",
        "    q = q[0]\n",
        "    row['query'] = q\n",
        "    ls = []\n",
        "    unique_url = set()\n",
        "    print(q[0])\n",
        "    google_search( q, n_links ,ls)\n",
        "    # print(ls)\n",
        "    for j,url in enumerate(ls):\n",
        "      print(\"\\tj->\", j)\n",
        "      # webpage = requests.get(url)\n",
        "      # webpage= webpage.content.encode('utf-8')\n",
        "      domain = urlparse(url).netloc\n",
        "      if domain in unique_url:\n",
        "        print(\"same domain explored before\")\n",
        "        pass\n",
        "      unique_url.add(domain)\n",
        "      try:\n",
        "          http_pool = urllib3.connection_from_url(url)\n",
        "          r = http_pool.urlopen('GET',url)\n",
        "          content= r.data.decode('utf-8')\n",
        "\n",
        "      except:\n",
        "          try:\n",
        "              webp = requests.get(url)\n",
        "              content = webp.content.encode('utf-8')\n",
        "          except:\n",
        "              content= \"This is a meaningless content   \"\n",
        "              print(\"F\")\n",
        "              count_F+=1\n",
        "              pass\n",
        "\n",
        "\n",
        "\n",
        "      soup_obj = BeautifulSoup(content, 'lxml')\n",
        "\n",
        "      for script in soup_obj([\"script\", \"style\"]):\n",
        "          script.extract()\n",
        "\n",
        "      p1  = []\n",
        "      for para in soup_obj.find_all([\"p\",\"li\"]):\n",
        "        p1.append(para.get_text()+\" \")\n",
        "      row[str(j)+\"_Content\"] = \"\\n\".join(p1)\n",
        "      row[str(j)+\"_Link\"] = url\n",
        "    df = df.append(row, ignore_index=True)\n",
        "  print(count_F)\n",
        "  return df\n"
      ]
    },
    {
      "cell_type": "code",
      "execution_count": null,
      "metadata": {
        "colab": {
          "base_uri": "https://localhost:8080/"
        },
        "id": "cfVPAD9-B8O7",
        "outputId": "ceeba442-0b6e-431b-83f7-4b0ab7d2da72"
      },
      "outputs": [
        {
          "data": {
            "text/html": [
              "\n",
              "  <style>\n",
              "    pre {\n",
              "        white-space: pre-wrap;\n",
              "    }\n",
              "  </style>\n",
              "  "
            ],
            "text/plain": [
              "<IPython.core.display.HTML object>"
            ]
          },
          "metadata": {},
          "output_type": "display_data"
        }
      ],
      "source": [
        "#google search api +\n",
        "def scraper(query_list,n_links=10):\n",
        "  df = pd.DataFrame()\n",
        "  for i,q in enumerate(query_list):\n",
        "    print(\"i\", i)\n",
        "    row =dict()\n",
        "    row['query'] = q[0]\n",
        "    ls = []\n",
        "\n",
        "    google_search(q,n_links, ls)\n",
        "    for j,url in enumerate(ls):\n",
        "      print(\"\\tj\", j)\n",
        "      webpage = requests.get(url)\n",
        "      # webpage= webpage.content.encode('utf-8')\n",
        "      if (i,j) in [(0,8)]:\n",
        "        try:\n",
        "          decoded_webpage = webpage.content.decode('utf-8')\n",
        "        except:\n",
        "          print(i,j,\"checked cases\")\n",
        "          pass\n",
        "      else:\n",
        "        decoded_webpage = webpage.content.decode('utf-8')\n",
        "\n",
        "      soup_obj = BeautifulSoup(decoded_webpage, 'lxml')\n",
        "\n",
        "      for script in soup_obj([\"script\", \"style\"]):\n",
        "          script.extract()\n",
        "\n",
        "      p1  = []\n",
        "      for para in soup_obj.find_all([\"p\",\"li\"]):\n",
        "        p1.append(para.get_text()+\" \")\n",
        "      row[str(j)+\"_Content\"] = \"\\n\".join(p1)\n",
        "      row[str(j)+\"_Link\"] = url\n",
        "    df = df.append(row, ignore_index=True)\n",
        "  return df\n",
        "\n",
        "\n",
        "\n"
      ]
    },
    {
      "cell_type": "code",
      "execution_count": null,
      "metadata": {
        "colab": {
          "base_uri": "https://localhost:8080/",
          "height": 1000
        },
        "id": "AshIqaf8tzFJ",
        "outputId": "a7b72680-860b-4037-8a98-a24f10799cf5"
      },
      "outputs": [
        {
          "data": {
            "text/html": [
              "\n",
              "  <style>\n",
              "    pre {\n",
              "        white-space: pre-wrap;\n",
              "    }\n",
              "  </style>\n",
              "  "
            ],
            "text/plain": [
              "<IPython.core.display.HTML object>"
            ]
          },
          "metadata": {},
          "output_type": "display_data"
        },
        {
          "name": "stdout",
          "output_type": "stream",
          "text": [
            "Index 0 0\n",
            "1\n",
            "-0.003884965999986889\n",
            "Index 0 1\n",
            "5\n",
            "-0.0024499410000089483\n",
            "Index 0 2\n",
            "0\n",
            "-5.808499997783656e-05\n",
            "Index 0 3\n",
            "227\n",
            "-0.006494809000002988\n",
            "Index 0 4\n",
            "37\n",
            "-8.169999944129813e-06\n",
            "Index 0 5\n",
            "17\n",
            "-0.0014336880000200836\n",
            "Index 0 6\n",
            "125\n",
            "-0.0022198949999392426\n",
            "Index 0 7\n",
            "134\n",
            "-0.0005923049999978502\n",
            "Index 0 8\n",
            "80\n",
            "-0.0027979410000398275\n",
            "Index 0 9\n",
            "472\n",
            "-0.001057256999956735\n",
            "Index 1 0\n",
            "179\n",
            "0.0003523110000287488\n",
            "Index 1 1\n",
            "388\n",
            "-0.001554157999976269\n",
            "Index 1 2\n",
            "36\n",
            "-0.0018037659999663447\n",
            "Index 1 3\n",
            "12\n",
            "0.0007494000001315726\n",
            "Index 1 4\n",
            "18\n",
            "-0.0032870039999579603\n",
            "Index 1 5\n",
            "65\n",
            "-0.0009976590000633223\n",
            "Index 1 6\n",
            "75\n",
            "-0.00290102599990405\n",
            "Index 1 7\n",
            "78\n",
            "0.001274169999987862\n",
            "Index 1 8\n",
            "0\n",
            "-0.0006610300000602365\n",
            "Index 1 9\n",
            "1\n",
            "0.002160174000096049\n",
            "Index 2 0\n",
            "90\n",
            "-0.005975260999889542\n",
            "Index 2 1\n",
            "217\n",
            "0.0003475059999118457\n",
            "Index 2 2\n",
            "31\n",
            "-0.0018800410000494594\n",
            "Index 2 3\n",
            "33\n",
            "-0.001999600999965878\n",
            "Index 2 4\n",
            "38\n",
            "-8.940500003973284e-05\n",
            "Index 2 5\n",
            "41\n",
            "0.00020852700004070357\n",
            "Index 2 6\n",
            "98\n",
            "-0.001077677000012045\n",
            "Index 2 7\n",
            "26\n",
            "-0.0026540310000200407\n",
            "Index 2 8\n",
            "38\n",
            "-0.0011856700000407727\n",
            "Index 2 9\n",
            "52\n",
            "-0.0006630740001583035\n",
            "Index 3 0\n",
            "5\n",
            "-0.0008554910000384552\n",
            "Index 3 1\n",
            "62\n",
            "-4.314099987823283e-05\n",
            "Index 3 2\n",
            "13\n",
            "-0.0020611789998383756\n",
            "Index 3 3\n",
            "9\n",
            "-0.0027029580000998976\n",
            "Index 3 4\n",
            "21\n",
            "-0.0013023479998537368\n",
            "Index 3 5\n",
            "27\n",
            "0.00016157900017788052\n",
            "Index 3 6\n",
            "11\n",
            "-0.0021198849999564118\n",
            "Index 3 7\n",
            "1\n",
            "-0.00110738900002616\n",
            "Index 3 8\n",
            "1\n",
            "-0.001397558000007848\n",
            "Index 3 9\n",
            "1\n",
            "-0.00028256099994905526\n",
            "Index 4 0\n",
            "92\n",
            "-0.0024098719998164597\n",
            "Index 4 1\n",
            "4\n",
            "-0.0017904290000387846\n",
            "Index 4 2\n",
            "0\n",
            "0.00012552199973470124\n",
            "Index 4 3\n",
            "3\n",
            "-0.0011647159999483847\n",
            "Index 4 4\n",
            "59\n",
            "-0.0006822919999649457\n",
            "Index 4 5\n",
            "31\n",
            "0.0008772620001309406\n",
            "Index 4 6\n",
            "17\n",
            "-0.0015616470000168192\n",
            "Index 4 7\n",
            "34\n",
            "-0.0014229060000161553\n",
            "Index 4 8\n",
            "1\n",
            "-0.0013308430002325622\n",
            "Index 4 9\n",
            "1\n",
            "-0.0011123970000426198\n",
            "Index 5 0\n",
            "214\n",
            "-0.0013077400001293427\n",
            "Index 5 1\n",
            "341\n",
            "-0.004861561000097936\n",
            "Index 5 2\n",
            "189\n",
            "0.0004620489999069832\n",
            "Index 5 3\n",
            "1\n",
            "-0.0004432069997619692\n",
            "Index 5 4\n",
            "162\n",
            "-0.00651306199983992\n",
            "Index 5 5\n",
            "10246\n",
            "-0.0019907000003058783\n",
            "Index 5 6\n",
            "51\n",
            "-0.0004812320012206328\n",
            "Index 5 7\n",
            "31481\n"
          ]
        }
      ],
      "source": [
        "df_a = pd.read_csv('extracted_content_1_60.csv')\n",
        "df_b = rank_passages_3(df_a)"
      ]
    },
    {
      "cell_type": "code",
      "execution_count": null,
      "metadata": {
        "id": "jxGZQHBnbzsB"
      },
      "outputs": [],
      "source": [
        "df_b.to_csv('dpr_faiss_60.csv', index = False)"
      ]
    },
    {
      "cell_type": "markdown",
      "metadata": {
        "id": "35OCjRDanVym"
      },
      "source": [
        "#Document Shortening Algorithm\n"
      ]
    },
    {
      "cell_type": "markdown",
      "metadata": {
        "id": "hPG_jUINl2e1"
      },
      "source": [
        "##TFIDF + Cosine similarity + window size =2"
      ]
    },
    {
      "cell_type": "code",
      "execution_count": null,
      "metadata": {
        "colab": {
          "base_uri": "https://localhost:8080/",
          "height": 17
        },
        "id": "qlpUG6cFnSXf",
        "outputId": "1111b100-f068-4b61-f4ca-1635630b86f6"
      },
      "outputs": [
        {
          "data": {
            "text/html": [
              "\n",
              "  <style>\n",
              "    pre {\n",
              "        white-space: pre-wrap;\n",
              "    }\n",
              "  </style>\n",
              "  "
            ],
            "text/plain": [
              "<IPython.core.display.HTML object>"
            ]
          },
          "metadata": {},
          "output_type": "display_data"
        }
      ],
      "source": [
        "# #usage\n",
        "\n",
        "# TFIDF + Cosine similarity + window size =2\n",
        "# def select_sent(query,sent_list,thresh=0.2):\n",
        "#   vect = TfidfVectorizer(min_df=1, stop_words=\"english\")\n",
        "#   try:\n",
        "#     tfidf = vect.fit(sent_list)\n",
        "#   except:\n",
        "#     return [(i,k) for i,k in enumerate(sent_list)]\n",
        "\n",
        "#   ans=[]\n",
        "#   for i,sent in enumerate(sent_list):\n",
        "#     s = [query, sent]\n",
        "#     tfidf_1 = tfidf.transform(s)\n",
        "#     pairwise_similarity = tfidf_1 * tfidf_1.T\n",
        "#     simma = ( pairwise_similarity.toarray())[0,1]\n",
        "#     if(simma>thresh):\n",
        "#       ans.append((i,sent))\n",
        "#   return ans\n",
        "\n",
        "# def list2para(ans_list,sent_list,window_size=2):\n",
        "\n",
        "#   d= set()\n",
        "#   len_sent= len(sent_list)\n",
        "#   for i,k in ((ans_list)):\n",
        "#     for j in range(-window_size,window_size+1):\n",
        "#       if(i+j>=0 and i+j<len_sent):\n",
        "#         d.add((i+j,sent_list[i+j]))\n",
        "#   d = list(d)\n",
        "#   d =sorted(d)\n",
        "#   return list_to_str([j[1] for j in list(d)])\n",
        "\n",
        "\n",
        "# def answer_2(df):\n",
        "#   df=df.fillna(\"\")\n",
        "#   list_1=[]\n",
        "#   for i, k in df.iterrows():\n",
        "#     q = k['query']\n",
        "#     print(i)\n",
        "#     list_temp=[]\n",
        "#     for j in range( 10):\n",
        "#       c = k[str(j)+\"_Content\"]\n",
        "#       # c = make_tuple()\n",
        "#       c = simplify(c)\n",
        "\n",
        "\n",
        "#       sent_list = split_into_sent(c)\n",
        "\n",
        "#       ans_list = select_sent(q,sent_list,thresh= 0.15)\n",
        "\n",
        "#       l2p = list2para(ans_list,sent_list)\n",
        "#       ans= get_answer_1(q,l2p)\n",
        "#       list_temp.append((harmonic_mean(ans[1]),ans[0],j))\n",
        "#     list_temp_1 = sorted(list_temp)\n",
        "#     list_temp_1.reverse()\n",
        "#     list_temp_temp = [(ii[1],ii[2]) for ii in list_temp_1]\n",
        "#     list_temp = [q,k['ans']]\n",
        "#     list_temp.extend(list_temp_temp)\n",
        "#     list_temp=list_temp[:7]\n",
        "#     list_1.append(list_temp)\n",
        "#   return list_1"
      ]
    },
    {
      "cell_type": "markdown",
      "metadata": {
        "id": "UmVs80UbK2A-"
      },
      "source": [
        "##Passage Ranking with MS Marco\n"
      ]
    },
    {
      "cell_type": "code",
      "execution_count": null,
      "metadata": {
        "id": "Sus5uHiEK12x",
        "colab": {
          "base_uri": "https://localhost:8080/",
          "height": 177,
          "referenced_widgets": [
            "e2fa744e9b3a401ca17b292b785dcc08",
            "db186dd1330c4bafadabcf43e9c02bc0",
            "b2b903b5bfcc479dbeff9c3b7a381e77",
            "30c26db25860467bb510ca92f56bc789",
            "a34c3832bbdb4c99aed600ab78bacf1f",
            "9eee6748c62b4bf2a3d8136c4d342d3e",
            "c9447205653a4afb89a8c496cfd40e17",
            "9c5929b247014c7895f3edb7b03fd9a9",
            "959e2444c6e3471092389eb4424563e7",
            "baaa64be3c3b485e8c29060a4cb2989d",
            "3774309076bc4ab08b36ecaded5de09a",
            "1b3511af6ee840b2be66c107e08f5d7c",
            "ec57613214e942558438c1bb3138c550",
            "34d9f7ee40b846ce821abbec4eb2fe3f",
            "08e3fe5fbcf0416ab54c29a576685adb",
            "d74103a82fd64f198cc4d99cbe583c37",
            "88c6a66bb641418d99d7743a66153fe9",
            "27a039905a2d4ee3b04975096ee6f13e",
            "d90fb95bc22341f7bc69cdf519125ccf",
            "c4b219b9e621440690cbed55aa776a5b",
            "488a3f6b4b33431f8d922d3e0ef34830",
            "5bfb3e3e5bb64966a552dcf69206b432",
            "77cdb83bf81246198923d8fdc959bc28",
            "8b2e0850de114d9d910dd8ad3da02acc",
            "5591c4bf8d194b45b9eb256ee4200fb9",
            "e6daaf915b2547dfbc22668aa98e21ae",
            "2e3285e85d36480abe8e28bb752ce8b5",
            "d8f91aac72f74ddba4fb02805fe8e334",
            "a2d66bccb2ce41d28257039b9a4e5780",
            "be5ef67eb7014229bb1691f481ba7f3f",
            "dfa9972035404afab9e33ea38a3fd792",
            "718d305ae8b54c448a6fe57df7ee7a3c",
            "dfa5e0d5dcd94a3f8b929d35a20451a5",
            "b062fd128ebf44b1bbc495da3aae1d97",
            "7b8da9da47f9410b90886cdec45047e4",
            "420af110cd8d42e2940cd1017efd1ad7",
            "bccad6db987f4d189b13f8cbc63449a4",
            "79e911582a4a430b8d020eca3dbf21d2",
            "e133741dbd7e4300805e862dab185c96",
            "ee83d3def5ce4d0ca5d1317a80a3f03c",
            "f8d4a16c3cf1448aa3f4644ca45a0001",
            "ccb866266ac9451a8cd2180a7bcec63c",
            "f1243adf3b18459cbde790487e71e286",
            "8c85264461b549859380f71c351cf700",
            "09712088a9fc4c79809489681a473552",
            "4794b2253f3644418e99887c4b15f222",
            "a7ceddbb863b442baa7a4b9c61d819fd",
            "daab36d3d0574691b615cebde2e951db",
            "d7f57e9016734daeafdf87829cc48430",
            "a2e994ee969443f6ae89c2d7addecfc7",
            "9758bcd6f166496e9da0e677c4e8d085",
            "35594fb287fe4804af082fe7df2c3df2",
            "fc331a8532d442ec980089ded1ba8858",
            "68591baa495b452ba22c11cbabb976c4",
            "9ff1e8cd69844c8a90a928318d99152a"
          ]
        },
        "outputId": "c9402ccc-78a0-41ea-e5d7-03baec528463"
      },
      "outputs": [
        {
          "output_type": "display_data",
          "data": {
            "text/html": [
              "\n",
              "  <style>\n",
              "    pre {\n",
              "        white-space: pre-wrap;\n",
              "    }\n",
              "  </style>\n",
              "  "
            ],
            "text/plain": [
              "<IPython.core.display.HTML object>"
            ]
          },
          "metadata": {}
        },
        {
          "output_type": "display_data",
          "data": {
            "application/vnd.jupyter.widget-view+json": {
              "model_id": "e2fa744e9b3a401ca17b292b785dcc08",
              "version_minor": 0,
              "version_major": 2
            },
            "text/plain": [
              "Downloading:   0%|          | 0.00/612 [00:00<?, ?B/s]"
            ]
          },
          "metadata": {}
        },
        {
          "output_type": "display_data",
          "data": {
            "application/vnd.jupyter.widget-view+json": {
              "model_id": "1b3511af6ee840b2be66c107e08f5d7c",
              "version_minor": 0,
              "version_major": 2
            },
            "text/plain": [
              "Downloading:   0%|          | 0.00/16.8M [00:00<?, ?B/s]"
            ]
          },
          "metadata": {}
        },
        {
          "output_type": "display_data",
          "data": {
            "application/vnd.jupyter.widget-view+json": {
              "model_id": "77cdb83bf81246198923d8fdc959bc28",
              "version_minor": 0,
              "version_major": 2
            },
            "text/plain": [
              "Downloading:   0%|          | 0.00/543 [00:00<?, ?B/s]"
            ]
          },
          "metadata": {}
        },
        {
          "output_type": "display_data",
          "data": {
            "application/vnd.jupyter.widget-view+json": {
              "model_id": "b062fd128ebf44b1bbc495da3aae1d97",
              "version_minor": 0,
              "version_major": 2
            },
            "text/plain": [
              "Downloading:   0%|          | 0.00/226k [00:00<?, ?B/s]"
            ]
          },
          "metadata": {}
        },
        {
          "output_type": "display_data",
          "data": {
            "application/vnd.jupyter.widget-view+json": {
              "model_id": "09712088a9fc4c79809489681a473552",
              "version_minor": 0,
              "version_major": 2
            },
            "text/plain": [
              "Downloading:   0%|          | 0.00/112 [00:00<?, ?B/s]"
            ]
          },
          "metadata": {}
        }
      ],
      "source": [
        "model_n='cross-encoder/ms-marco-TinyBERT-L-2'\n",
        "model_pr = AutoModelForSequenceClassification.from_pretrained(model_n)\n",
        "tokenizer_pr = AutoTokenizer.from_pretrained(model_n)"
      ]
    },
    {
      "cell_type": "code",
      "execution_count": null,
      "metadata": {
        "id": "gkbCsccQpaZX",
        "colab": {
          "base_uri": "https://localhost:8080/",
          "height": 17
        },
        "outputId": "05e83c7b-68a6-4f7f-e99c-fd62ce878c24"
      },
      "outputs": [
        {
          "output_type": "display_data",
          "data": {
            "text/html": [
              "\n",
              "  <style>\n",
              "    pre {\n",
              "        white-space: pre-wrap;\n",
              "    }\n",
              "  </style>\n",
              "  "
            ],
            "text/plain": [
              "<IPython.core.display.HTML object>"
            ]
          },
          "metadata": {}
        }
      ],
      "source": [
        "def score_for_one(q, list_of_passages):\n",
        "\n",
        "  features=tokenizer_pr([q],list_of_passages,padding =True, truncation = True, return_tensors='pt')\n",
        "\n",
        "  model_pr.eval()\n",
        "  with torch.no_grad():\n",
        "      scores = model_pr(**features).logits\n",
        "      return scores"
      ]
    },
    {
      "cell_type": "code",
      "execution_count": null,
      "metadata": {
        "colab": {
          "base_uri": "https://localhost:8080/",
          "height": 17
        },
        "id": "6qZFWEUzmMX0",
        "outputId": "b7ddf980-82be-4fd8-fe46-bc95d42a7fc3"
      },
      "outputs": [
        {
          "data": {
            "text/html": [
              "\n",
              "  <style>\n",
              "    pre {\n",
              "        white-space: pre-wrap;\n",
              "    }\n",
              "  </style>\n",
              "  "
            ],
            "text/plain": [
              "<IPython.core.display.HTML object>"
            ]
          },
          "metadata": {},
          "output_type": "display_data"
        }
      ],
      "source": [
        "# bullshit implementation\n",
        "\n",
        "# def rank_passages(q_list,df ):\n",
        "#   df =df.fillna(\"\")\n",
        "#   df_1= pd.DataFrame()\n",
        "#   for i in range(10):\n",
        "#     features = tokenizer(q_list, list(df[str(i)+\"_Content\"]),padding =True, truncation = False, return_tensors='pt')\n",
        "#     model_pr.eval()\n",
        "#     with torch.no_grad():\n",
        "#       scores =  model_pr(**features).logits\n",
        "#       df_1['scores_'+str(i)] = list(scores)\n",
        "#   return df_1\n"
      ]
    },
    {
      "cell_type": "code",
      "execution_count": null,
      "metadata": {
        "id": "xWx6T-u8YOtl"
      },
      "outputs": [],
      "source": [
        "#threshinf at -5? should help"
      ]
    },
    {
      "cell_type": "code",
      "execution_count": null,
      "metadata": {
        "id": "BvK4Y2gGfMhH",
        "colab": {
          "base_uri": "https://localhost:8080/",
          "height": 17
        },
        "outputId": "32c9bff9-f522-480a-c592-9da8871de586"
      },
      "outputs": [
        {
          "output_type": "display_data",
          "data": {
            "text/html": [
              "\n",
              "  <style>\n",
              "    pre {\n",
              "        white-space: pre-wrap;\n",
              "    }\n",
              "  </style>\n",
              "  "
            ],
            "text/plain": [
              "<IPython.core.display.HTML object>"
            ]
          },
          "metadata": {}
        }
      ],
      "source": [
        "from sklearn.cluster import KMeans"
      ]
    },
    {
      "cell_type": "code",
      "execution_count": null,
      "metadata": {
        "id": "lQEZYPuUt1aw",
        "colab": {
          "base_uri": "https://localhost:8080/",
          "height": 17
        },
        "outputId": "02770550-033b-472d-8c66-54671af96b7e"
      },
      "outputs": [
        {
          "output_type": "display_data",
          "data": {
            "text/html": [
              "\n",
              "  <style>\n",
              "    pre {\n",
              "        white-space: pre-wrap;\n",
              "    }\n",
              "  </style>\n",
              "  "
            ],
            "text/plain": [
              "<IPython.core.display.HTML object>"
            ]
          },
          "metadata": {}
        }
      ],
      "source": [
        "def rank_passages_1(df_c,top_k=9):\n",
        "  df_c=df_c.fillna(\"\")\n",
        "  df_ans = pd.DataFrame()\n",
        "  len_array=[]\n",
        "  for i, k in df_c.iterrows():\n",
        "    row_dict={}\n",
        "    for j in range(10):\n",
        "      print(i,j)\n",
        "      passage_ranker=[]\n",
        "      q=df_c['query'].iloc[i]\n",
        "\n",
        "      content= df_c[str(j) +\"_Content\"].iloc[i]\n",
        "      printw(\"Question \"+str(i) +\":\" + q)\n",
        "      printw(\"Content \"+str(j) +\":\" + df_c[str(j) +\"_Link\"].iloc[i])\n",
        "      if(content==\"\"):\n",
        "        row_dict[str(j)] = \"This is Empty Content\"\n",
        "        continue\n",
        "      cont_l= content.split(\"\\n\")\n",
        "      cont_l_1=[]\n",
        "      for ii in cont_l:\n",
        "        if ii == \"\":\n",
        "          continue\n",
        "        if len(ii.split(\" \"))>450:\n",
        "          print(\"I am a problem, u shud see me\", i,j)\n",
        "\n",
        "        cont_l_1.append(ii)\n",
        "      # cont_l_2 = combine_strs(cont_l_1)\n",
        "      # cont_l_1=cont_l_2\n",
        "      print(len(cont_l_1))\n",
        "      len_array_1 = [len(i.split(\" \")) for i in cont_l_1]\n",
        "      len_array.extend(len_array_1)\n",
        "\n",
        "      scores = []\n",
        "\n",
        "      row_dict['query']=q\n",
        "      for c,ii in enumerate(cont_l_1):\n",
        "        score = score_for_one(q, [ii])\n",
        "        scores.append((score, c))\n",
        "      scores = sorted(scores,reverse=True)\n",
        "      candidates = scores[:top_k]\n",
        "      print([i[0] for i in candidates])\n",
        "      candidates = [(j,i) for i,j in candidates]\n",
        "      candidates = sorted(candidates)\n",
        "      if(candidates[0][0] <-4.8):\n",
        "        row_dict[str(j)] = \"This is Useless Content\"\n",
        "        continue\n",
        "\n",
        "      candidates=[cont_l_1[i[0]] for i in candidates]\n",
        "      # candidates=[candidates[i[1]] for i in candidates]\n",
        "      row_dict[str(j)] = \" \".join(candidates)\n",
        "      deli.deli_2()\n",
        "      deli.deli_2()\n",
        "      printw(\"Selected Content \"+str(j)+ \": \"+\" \".join(candidates) )\n",
        "      # row_dict[str(j)] = \" \".join(candidates)\n",
        "      deli.deli_2()\n",
        "      input()\n",
        "      output.clear()\n",
        "\n",
        "    df_ans  = df_ans.append(row_dict,ignore_index=True)\n",
        "  print(make_histogram(len_array))\n",
        "  return df_ans\n",
        "\n",
        "def rank_sentences(q, passage, n_cls=7, select_cls=4):\n",
        "  sent_l = nltk.sent_tokenize(passage)\n",
        "  print(\"Total sentences:\",len(sent_l))\n",
        "  if(len(sent_l)==0 or (len(sent_l)==1 and sent_l[0]=='')):\n",
        "    return \"Insufficient String\"\n",
        "  if(len(sent_l)<n_cls):\n",
        "    return \" \".join(passage)\n",
        "  scores = []\n",
        "  for i, k  in enumerate(sent_l):\n",
        "    score = score_for_one(q,[k])\n",
        "    scores.append((score,i))\n",
        "  scores = sorted(scores,reverse=True)\n",
        "  # print(scores)\n",
        "  scoo = [i[0] for i in scores]\n",
        "  x= np.array(scoo)\n",
        "  km = KMeans(n_clusters=n_cls, random_state=42, max_iter=500)\n",
        "  km.fit(x.reshape(-1,1))\n",
        "  y = km.labels_\n",
        "  sent_ll = [sent_l[iiii] for jjjj,iiii in scores]\n",
        "  # print(list(zip(sent_ll,y)))\n",
        "  candidates= []\n",
        "  true_label = select_cls\n",
        "  selecting = set()\n",
        "  for ii,iii in enumerate(y):\n",
        "    if(len(selecting)<select_cls):\n",
        "      selecting.add(iii)\n",
        "    if iii in selecting:\n",
        "      candidates.append((scoo[ii], scores[ii][1]))\n",
        "  print(\"Selected Sentences Count:\",len(candidates))\n",
        "  candidates = [(j,i) for i,j in candidates]\n",
        "  candidates = sorted(candidates)\n",
        "  candidates=[sent_l[i[0]] for i in candidates]\n",
        "  return \" \".join(candidates)\n",
        "\n",
        "\n",
        "def rank_passages_2(df_c,top_k=9):\n",
        "  df_c=df_c.fillna(\"\")\n",
        "  df_ans = pd.DataFrame()\n",
        "  # len_array=[]\n",
        "  for i, k in df_c.iterrows():\n",
        "    row_dict={}\n",
        "    for j in range(10):\n",
        "      print(\"Index\",i,j)\n",
        "      passage_ranker=[]\n",
        "      q=df_c['query'].iloc[i]\n",
        "\n",
        "      content= df_c[str(j) +\"_Content\"].iloc[i]\n",
        "      # printw(\"Question \"+str(i) +\":\" + q)\n",
        "      # printw(\"Content \"+str(j) +\":\" + df_c[str(j) +\"_Link\"].iloc[i])\n",
        "      if(content==\" this is a meaningless content due to repetition and timeout as well\"):\n",
        "        row_dict[str(j)] =\" this is a meaningless content due to repetition and timeout as well\"\n",
        "        continue\n",
        "      start = timeit.timeit()\n",
        "      if i == 58 and j ==6:\n",
        "        row_dict[str(j)] = \" this is a meaningless content due to repetition and timeout as well\"\n",
        "        continue\n",
        "      row_dict[str(j)] = rank_sentences(q,content)\n",
        "      end = timeit.timeit()\n",
        "      print(end-start)\n",
        "\n",
        "    df_ans  = df_ans.append(row_dict,ignore_index=True)\n",
        "  # print(make_histogram(len_array))\n",
        "  return df_ans"
      ]
    },
    {
      "cell_type": "code",
      "execution_count": null,
      "metadata": {
        "colab": {
          "base_uri": "https://localhost:8080/",
          "height": 35
        },
        "id": "ccCbUsHekkRa",
        "outputId": "98f3687a-a370-497b-b2ed-55b49b3d2fcf"
      },
      "outputs": [
        {
          "output_type": "display_data",
          "data": {
            "text/html": [
              "\n",
              "  <style>\n",
              "    pre {\n",
              "        white-space: pre-wrap;\n",
              "    }\n",
              "  </style>\n",
              "  "
            ],
            "text/plain": [
              "<IPython.core.display.HTML object>"
            ]
          },
          "metadata": {}
        },
        {
          "output_type": "execute_result",
          "data": {
            "text/plain": [
              "200"
            ]
          },
          "metadata": {},
          "execution_count": 18
        }
      ],
      "source": [
        "df = pd.read_csv('extracted_contents_200.csv')\n",
        "len(df)"
      ]
    },
    {
      "cell_type": "code",
      "execution_count": null,
      "metadata": {
        "id": "aZPbPRtnYwgn"
      },
      "outputs": [],
      "source": [
        "df.head()"
      ]
    },
    {
      "cell_type": "code",
      "execution_count": null,
      "metadata": {
        "id": "vVF5ZP8jdafg"
      },
      "outputs": [],
      "source": [
        "# df_sub = df.sample(n=10, random_state=42)\n",
        "# df_sub = df_sub.reset_index()\n",
        "startt = timeit.timeit()\n",
        "df_c = rank_passages_3(df)\n",
        "end  =  timeit.timeit()\n",
        "print(end-startt)\n",
        "print(df_c)\n"
      ]
    },
    {
      "cell_type": "code",
      "execution_count": null,
      "metadata": {
        "id": "1ZLeQnL5Xxd3"
      },
      "outputs": [],
      "source": [
        "(df_c).head(10)"
      ]
    },
    {
      "cell_type": "code",
      "execution_count": null,
      "metadata": {
        "colab": {
          "base_uri": "https://localhost:8080/",
          "height": 34
        },
        "id": "GnEKVmKT04sB",
        "outputId": "94114dba-d371-455e-ccb4-e7dd64080d2f"
      },
      "outputs": [
        {
          "data": {
            "text/html": [
              "\n",
              "  <style>\n",
              "    pre {\n",
              "        white-space: pre-wrap;\n",
              "    }\n",
              "  </style>\n",
              "  "
            ],
            "text/plain": [
              "<IPython.core.display.HTML object>"
            ]
          },
          "metadata": {},
          "output_type": "display_data"
        },
        {
          "name": "stdout",
          "output_type": "stream",
          "text": [
            "150\n"
          ]
        }
      ],
      "source": [
        "print(len(df_c))"
      ]
    },
    {
      "cell_type": "code",
      "execution_count": null,
      "metadata": {
        "id": "NO-n542M09yh"
      },
      "outputs": [],
      "source": [
        "df_c.to_csv(\"dpr_200.csv\",index=False)"
      ]
    },
    {
      "cell_type": "code",
      "execution_count": null,
      "metadata": {
        "colab": {
          "base_uri": "https://localhost:8080/",
          "height": 17
        },
        "id": "hky6yG8mtpS2",
        "outputId": "5ec4dbfa-c1bc-4324-9fce-8cfd232ba2c4"
      },
      "outputs": [
        {
          "data": {
            "text/html": [
              "\n",
              "  <style>\n",
              "    pre {\n",
              "        white-space: pre-wrap;\n",
              "    }\n",
              "  </style>\n",
              "  "
            ],
            "text/plain": [
              "<IPython.core.display.HTML object>"
            ]
          },
          "metadata": {},
          "output_type": "display_data"
        }
      ],
      "source": [
        "df_c = pd.read_csv('s.csv')"
      ]
    },
    {
      "cell_type": "code",
      "execution_count": null,
      "metadata": {
        "colab": {
          "base_uri": "https://localhost:8080/",
          "height": 35
        },
        "id": "r0bJipA2cHyO",
        "outputId": "5f853625-2066-43c4-c10e-018b9ec38696"
      },
      "outputs": [
        {
          "data": {
            "text/html": [
              "\n",
              "  <style>\n",
              "    pre {\n",
              "        white-space: pre-wrap;\n",
              "    }\n",
              "  </style>\n",
              "  "
            ],
            "text/plain": [
              "<IPython.core.display.HTML object>"
            ]
          },
          "metadata": {},
          "output_type": "display_data"
        },
        {
          "data": {
            "text/plain": [
              "Index(['0', '1', '2', '3', '4', '5', '6', '7', '8', '9', 'query'], dtype='object')"
            ]
          },
          "execution_count": 66,
          "metadata": {},
          "output_type": "execute_result"
        }
      ],
      "source": [
        "df_c.columns"
      ]
    },
    {
      "cell_type": "code",
      "execution_count": null,
      "metadata": {
        "id": "TAqRcRpLyxXO"
      },
      "outputs": [],
      "source": [
        "cont = '''\n",
        "\n",
        "k-means clustering is a method of vector quantization, originally from signal processing, that aims to partition n observations into k clusters in which each observation belongs to the cluster with the nearest mean (cluster centers or cluster centroid), serving as a prototype of the cluster. This results in a partitioning of the data space into Voronoi cells. k-means clustering minimizes within-cluster variances (squared Euclidean distances), but not regular Euclidean distances, which would be the more difficult Weber problem: the mean optimizes squared errors, whereas only the geometric median minimizes Euclidean distances. For instance, better Euclidean solutions can be found using k-medians and k-medoids.\n",
        "\n",
        "The problem is computationally difficult (NP-hard); however, efficient heuristic algorithms converge quickly to a local optimum. These are usually similar to the expectation-maximization algorithm for mixtures of Gaussian distributions via an iterative refinement approach employed by both k-means and Gaussian mixture modeling. They both use cluster centers to model the data; however, k-means clustering tends to find clusters of comparable spatial extent, while the Gaussian mixture model allows clusters to have different shapes.\n",
        "\n",
        "The unsupervised k-means algorithm has a loose relationship to the k-nearest neighbor classifier, a popular supervised machine learning technique for classification that is often confused with k-means due to the name. Applying the 1-nearest neighbor classifier to the cluster centers obtained by k-means classifies new data into the existing clusters. This is known as nearest centroid classifier or Rocchio algorithm.\n",
        "\n",
        "The term \"k-means\" was first used by James MacQueen in 1967,[2] though the idea goes back to Hugo Steinhaus in 1956.[3] The standard algorithm was first proposed by Stuart Lloyd of Bell Labs in 1957 as a technique for pulse-code modulation, although it was not published as a journal article until 1982.[4] In 1965, Edward W. Forgy published essentially the same method, which is why it is sometimes referred to as the Lloyd–Forgy algorithm.[5]\n",
        "\n",
        "Commonly used initialization methods are Forgy and Random Partition.[10] The Forgy method randomly chooses k observations from the dataset and uses these as the initial means. The Random Partition method first randomly assigns a cluster to each observation and then proceeds to the update step, thus computing the initial mean to be the centroid of the cluster's randomly assigned points. The Forgy method tends to spread the initial means out, while Random Partition places all of them close to the center of the data set. According to Hamerly et al.,[10] the Random Partition method is generally preferable for algorithms such as the k-harmonic means and fuzzy k-means. For expectation maximization and standard k-means algorithms, the Forgy method of initialization is preferable. A comprehensive study by Celebi et al.,[11] however, found that popular initialization methods such as Forgy, Random Partition, and Maximin often perform poorly, whereas Bradley and Fayyad's approach[12] performs \"consistently\" in \"the best group\" and k-means++ performs \"generally well\".\n",
        "\n",
        "\n",
        "'''\n",
        "\n",
        "query = \"Is Kmeans computationally efficient?\"\n",
        "deli.deli_2()\n",
        "ans = rank_sentences(query, cont, n_cls=7, select_cls =4)\n",
        "print(ans)\n",
        "print(get_answer_1(query,ans))"
      ]
    },
    {
      "cell_type": "code",
      "execution_count": null,
      "metadata": {
        "colab": {
          "base_uri": "https://localhost:8080/",
          "height": 17
        },
        "id": "X3eVFpvdcMy2",
        "outputId": "bc2cd09b-dc14-4aec-e0dd-c39bde2ecc97"
      },
      "outputs": [
        {
          "data": {
            "text/html": [
              "\n",
              "  <style>\n",
              "    pre {\n",
              "        white-space: pre-wrap;\n",
              "    }\n",
              "  </style>\n",
              "  "
            ],
            "text/plain": [
              "<IPython.core.display.HTML object>"
            ]
          },
          "metadata": {},
          "output_type": "display_data"
        }
      ],
      "source": [
        "df_c['query'] = df['query'].tolist()"
      ]
    },
    {
      "cell_type": "code",
      "execution_count": null,
      "metadata": {
        "colab": {
          "base_uri": "https://localhost:8080/",
          "height": 17
        },
        "id": "ScITJlPe8GV9",
        "outputId": "77b7da4f-8eb2-47cd-bb31-e1519e368f2b"
      },
      "outputs": [
        {
          "output_type": "display_data",
          "data": {
            "text/html": [
              "\n",
              "  <style>\n",
              "    pre {\n",
              "        white-space: pre-wrap;\n",
              "    }\n",
              "  </style>\n",
              "  "
            ],
            "text/plain": [
              "<IPython.core.display.HTML object>"
            ]
          },
          "metadata": {}
        }
      ],
      "source": [
        "def rank_pages(df_c):\n",
        "  df_c= df_c.fillna(\"Insufficient String\")\n",
        "  list_1= []\n",
        "  for i, k in df_c.iterrows():\n",
        "    print(i)\n",
        "    q = k['query']\n",
        "    temp_list = []\n",
        "    for j in range(10):\n",
        "      print(\"\\t\",j)\n",
        "      try:\n",
        "        c = k[str(j)]\n",
        "\n",
        "        # print((c))\n",
        "        try:\n",
        "          # print(\"I am here\")\n",
        "          if(c == 'Insufficient String' or c ==' ' or c=='' ):\n",
        "            continue\n",
        "          print(\"\\t\\t\",len(nltk.sent_tokenize(c)))\n",
        "          ans, scores = get_answer_1(q,c)\n",
        "\n",
        "          temp_list.append((harmonic_mean(scores), j, ans))\n",
        "        except Exception as eeee:\n",
        "\n",
        "          print(\"Error at stage 1:\",eeee)\n",
        "\n",
        "          c = rank_pass(q,c)\n",
        "          print(\"\\t\\t After I have changed\",len(nltk.sent_tokenize(c)))\n",
        "\n",
        "          ans,scores = get_answer_1(q,c)\n",
        "          temp_list.append((harmonic_mean(scores), j, ans))\n",
        "      except:\n",
        "        print(\"skipped bcz it took time\")\n",
        "    temp_list = sorted(temp_list, reverse=True)\n",
        "    temp_list= temp_list[:3]\n",
        "    # print(temp_list)\n",
        "    temp_list = [ ii[2] for ii in temp_list]\n",
        "    list_temp =[q]\n",
        "    list_temp.extend(temp_list)\n",
        "    list_1.append(list_temp)\n",
        "  return list_1"
      ]
    },
    {
      "cell_type": "code",
      "source": [
        "df_c = pd.read_csv('all_distilroberta_v1.csv')"
      ],
      "metadata": {
        "colab": {
          "base_uri": "https://localhost:8080/",
          "height": 17
        },
        "id": "gbiLKO2qjS2s",
        "outputId": "fc3e6bfc-7bf5-4f21-83bd-16f2a27f0b90"
      },
      "execution_count": null,
      "outputs": [
        {
          "output_type": "display_data",
          "data": {
            "text/html": [
              "\n",
              "  <style>\n",
              "    pre {\n",
              "        white-space: pre-wrap;\n",
              "    }\n",
              "  </style>\n",
              "  "
            ],
            "text/plain": [
              "<IPython.core.display.HTML object>"
            ]
          },
          "metadata": {}
        }
      ]
    },
    {
      "cell_type": "code",
      "source": [],
      "metadata": {
        "id": "GrLKYjT2jjHr"
      },
      "execution_count": null,
      "outputs": []
    },
    {
      "cell_type": "code",
      "execution_count": null,
      "metadata": {
        "id": "ysRsCd1r_2Fc"
      },
      "outputs": [],
      "source": [
        "list_1 = rank_pages(df_c)\n",
        "\n"
      ]
    },
    {
      "cell_type": "code",
      "execution_count": null,
      "metadata": {
        "colab": {
          "base_uri": "https://localhost:8080/",
          "height": 17
        },
        "id": "d27I8p5EMHqW",
        "outputId": "7b8c7ac1-b6c3-4dd1-a66c-73ad135214c4"
      },
      "outputs": [
        {
          "output_type": "display_data",
          "data": {
            "text/html": [
              "\n",
              "  <style>\n",
              "    pre {\n",
              "        white-space: pre-wrap;\n",
              "    }\n",
              "  </style>\n",
              "  "
            ],
            "text/plain": [
              "<IPython.core.display.HTML object>"
            ]
          },
          "metadata": {}
        }
      ],
      "source": [
        "import pickle\n",
        "ff = open('200_all_distilroberta_v1_answers.txt','wb')\n",
        "pickle.dump(list_1,ff)\n",
        "ff.close()"
      ]
    },
    {
      "cell_type": "code",
      "execution_count": null,
      "metadata": {
        "id": "pkblo1LhnsrE"
      },
      "outputs": [],
      "source": [
        "list_1"
      ]
    },
    {
      "cell_type": "code",
      "execution_count": null,
      "metadata": {
        "colab": {
          "base_uri": "https://localhost:8080/",
          "height": 17
        },
        "id": "EvwcjuUNHTlp",
        "outputId": "5db490a4-38c4-4652-e165-8d6993c0417a"
      },
      "outputs": [
        {
          "data": {
            "text/html": [
              "\n",
              "  <style>\n",
              "    pre {\n",
              "        white-space: pre-wrap;\n",
              "    }\n",
              "  </style>\n",
              "  "
            ],
            "text/plain": [
              "<IPython.core.display.HTML object>"
            ]
          },
          "metadata": {},
          "output_type": "display_data"
        }
      ],
      "source": [
        "list_1 = [['which is the most common use of opt-in e-mail marketing',\n",
        "  'advertising',\n",
        "  'to nurture your prospects through the sales process',\n",
        "  'growing your email list',\n",
        "  'flip the current card',\n",
        "  ' which is the most common use of opt-in e-mail marketing C o p y t h i s t o m y a c c o u n t    E - m a i l t o a f r i e n d    F i n d o t h e r a c t i v i t i e s    S t a r t o v e r    H e l p          V i e w p r o f i l e'],\n",
        " ['how i.met your mother who is the mother',\n",
        "  'Tracy McConnell',\n",
        "  'Tracy McConnell',\n",
        "  'Tracy McConnell',\n",
        "  'She was the wife of Ted Mosby and The Mother of his children. The Mother\\'s apartment was 317 West 115th Street, apartment 7A, until she moved in with Ted. After Tracy leaves, future Ted remarks, \"Kids, that was the first drink your mother ever bought me\". However, they postpone their wedding indefinitely when Tracy announces that she is pregnant. When Ted recalls how Robin\\'s mother nearly didn\\'t attend her wedding, Tracy makes an offhand comment about mothers always attending their daughter\\'s weddings. Because if I hadn\\'t, I never would\\'ve met your mother.\" This strongly suggested that Ted meets The Mother in New York. Well, I met your mom.\" At the end of How I Met Everyone Else, Ted asks Marshall and Lily where his wife is, at his college reunion. Many speculated this was a clue that The Mother would be dead in the future and, even though that was the case, the timeline suggests his comment was simply made due to Ted being high. In Wait For It, it is revealed by Future Ted that The Mother\\'s yellow umbrella factors into the story of how she and Ted met. In The Three Days Rule, Future Ted told his children that when he got their mother\\'s phone number, he called her right away. Future Ted narrates how this was the best job he\\'s ever had, and that if it weren\\'t for that job, he never would have met their Mother. In Double Date, Future Ted told his kids that when he first told their mother his \"shellfish-selfish\" joke, she laughed. Cindy\\'s roommate is The Mother, as revealed by Future Ted. In Big Days, Future Ted reveals that Ted will meet The Mother on the day of a wedding and that \"a little ways down the road\" he will be the best man at a wedding, later revealed in Challenge Accepted and The Magician\\'s Code - Part Two to be Barney and Robin\\'s wedding. In Garbage Island, in a scene that flashes forward to 2021, Ted meets Wendy the Waitress at an airport and tells her he is now married to \"a wonderful woman\" and has two kids, revealing that he will have met and married The Mother by this time. Later in The Exploding Meatball Sub, a scene set in April 2021 (ten years into the future) shows Ted wearing a wedding ring, further implying he will have met and married The Mother by this time. Barney complains about Ted bringing his baby daughter along, but relents because she is too cute. However, in season nine, it is revealed Ted and the Mother did not actually wed until 2020, after seven years together. Show creator Craig Thomas confirmed this was the place where Ted and The Mother would finally meet. In Bad Crazy, Future Ted reveals that the last girl he dated before meeting The Mother was Jeanette. In The Time Travelers, it is revealed that in April 2013, 45 days before she met Ted, The Mother was dating a man named Louis while living at 317 West 115th Street in apartment 7A and still obtaining her Economics degree. In How Your Mother Met Me, it is revealed The Mother\\'s 21st birthday was in September 2005, this makes her birth date 1984, which makes her 28 by the events of Barney and Robin\\'s wedding. It is revealed in the final episode of the series that the Mother had died six years prior to when Ted began telling his children their story. This is a list of identities and popular theories regarding The Mother, before she was revealed:     At the end of Belly Full of Turkey, Future Ted jokes to his kids that the stripper named Tracy he flirts with was their mother. Their shocked reaction when he tells them \"And that, kids, is the true story of how I met your mother.\" The mother\\'s name was confirmed as \"Tracy McConnell',\n",
        "  'Lily Aldrin'],\n",
        " ['what type of fertilisation takes place in humans',\n",
        "  'External fertilization',\n",
        "  \"A pregnancy starts with fertilization, when a woman's egg joins with a man's sperm. Fertilization usually takes place in a fallopian tube that links an ovary to the uterus. If the fertilized egg successfully travels down the fallopian tube and implants in the uterus, an embryo starts growing. When a fertilized egg does implant, a hormone called human chorionic gonadotropin (hCG) begins to be produced in the uterus.\",\n",
        "  \"A pregnancy starts with fertilization, when a woman's egg joins with a man's sperm. Fertilization usually takes place in a fallopian tube that links an ovary to the uterus. If the fertilized egg successfully travels down the fallopian tube and implants in the uterus, an embryo starts growing. When a fertilized egg does implant, a hormone called human chorionic gonadotropin (hCG) begins to be produced in the uterus.\",\n",
        "  'External fertilization',\n",
        "  'Human fertilization is the union of a human egg and sperm, occurring in the ampulla of the fallopian tube. Scientists discovered the dynamics of human fertilization in the nineteenth century. [2]     The process of fertilization involves a sperm fusing with an ovum. Various exceptions to this sequence are possible, including artificial insemination, in vitro fertilization, external ejaculation without copulation, or copulation shortly after ovulation. In vitro fertilization (IVF) is a process by which egg cells are fertilized by sperm outside the womb, in vitro.'],\n",
        " ['who had the most wins in the nfl',\n",
        "  'The New England Patriots',\n",
        "  'Chicago Bears',\n",
        "  'The New England Patriots',\n",
        "  'the Packers',\n",
        "  'New England Patriots'],\n",
        " ['who played mantis guardians of the galaxy 2',\n",
        "  'Klementieff',\n",
        "  'Klementieff',\n",
        "  'Klementieff',\n",
        "  'Klementieff',\n",
        "  'Klementieff'],\n",
        " ['what indian tribe did the acadians form friendships and alliances with',\n",
        "  \"Mi'kmaq\",\n",
        "  \"Mi'kmaq\",\n",
        "  \"Mi'kmaq\",\n",
        "  \"Mi'kmaq\",\n",
        "  \"Mi'kmaq\"],\n",
        " ['who is deputy cm of j and k',\n",
        "  'Kavinder Gupta',\n",
        "  'Kavinder Gupta',\n",
        "  'Kavinder Gupta',\n",
        "  'Gupta',\n",
        "  'Kavinder Gupta'],\n",
        " ['the nashville sound brought a polished and cosmopolitan sound to country music by',\n",
        "  'the use of lush string arrangements with a real orchestra and often background vocals provided by a choir',\n",
        "  'the use of lush string arrangements with a real orchestra and often background vocals provided by a choir',\n",
        "  'the use of lush string arrangements with a real orchestra and often background vocals provided by a choir',\n",
        "  'Eddy Arnold',\n",
        "  'Owen Bradley'],\n",
        " ['what channel is the premier league on in france',\n",
        "  'ABCATA',\n",
        "  'Includes',\n",
        "  'YouTube',\n",
        "  'YouTube',\n",
        "  'YouTube'],\n",
        " ['what is the use of jdk in java',\n",
        "  'a development environment for building applications, applets, and components using the Java programming language',\n",
        "  'developing Java applications and applets',\n",
        "  'The Java Development Kit (JDK) is a cross-platformed software development environment that offers a collection of tools and libraries necessary for developing Java-based software applications and applets',\n",
        "  'to convert your source code into a format that the Java Runtime Environment (JRE) can execute',\n",
        "  'allows developers to create Java programs that can be executed and run by the JVM and JRE'],\n",
        " ['who needs to be in the car with a permit driver',\n",
        "  '21 or older',\n",
        "  \"States' graduated driving laws differ on who can be in the car. Typically, drivers with learner  s permits can  t drive alone. A licensed driver at least 21 years old\",\n",
        "  'a licensed adult',\n",
        "  'a licensed adult age 21 or older',\n",
        "  'Young adults in all states now need to go through a graduated driver  s license (GDL) program that encourages teen driving safety. Applicants getting their permit must meet minimum age requirements; typically, teen drivers are between 14 and 16 years old'],\n",
        " [\"god's not dead a light in the darkness release date\",\n",
        "  'March 30, 2018',\n",
        "  'March 30, 2018',\n",
        "  'March 30, 2018',\n",
        "  'March 30, 2018',\n",
        "  'August 21, 2018'],\n",
        " ['who is the current president of un general assembly',\n",
        "  'Abdulla Shahid',\n",
        "  'Abdulla Shahid',\n",
        "  'María Fernanda Espinosa',\n",
        "  'Joseph Deiss',\n",
        "  'Mr. John W. Ashe'],\n",
        " ['when do they pull the powerball numbers 2016',\n",
        "  'every Wednesday and Saturday at 10:59 p.m. Eastern time',\n",
        "  'May 7, 2016',\n",
        "  'August 23, 2021',\n",
        "  'Wednesday, March 2, 2016',\n",
        "  'August 23, 2021'],\n",
        " ['when do the eclipse supposed to take place',\n",
        "  'Monday, April 8, 2024',\n",
        "  'at the phase of new moon, when the moon passes directly between the sun and Earth and its shadows fall upon Earth  s surface',\n",
        "  'December 4, 2021',\n",
        "  'June 10',\n",
        "  'June 10, 2021'],\n",
        " ['what is the name of the sea surrounding dubai',\n",
        "  'Persian Gulf',\n",
        "  'Persian Gulf',\n",
        "  'Persian Gulf',\n",
        "  'Persian Gulf',\n",
        "  'Persian'],\n",
        " ['who holds the nba record for most points in a career',\n",
        "  'Abdul-Jabbar',\n",
        "  'Kareem Abdul-Jabbar',\n",
        "  'Chambers',\n",
        "  \"2,027-point season in 1983  84, earning the first of his back-to-back All-NBA First Team selections. Over two years, he averaged 21.9 points per game, in his first year playing alongside players such as 1980 NBA All-Star World B. He scored 50 points on 20 for 30 shooting with 10 free throws in a 117  113 Knicks' victory over the San Antonio Spurs on January 31. King shot 20 for 28 from the field with 10 free throws in the 105  98 win over the Mavericks. [3][4]     The next season, on Christmas Day, 1984, King lit up the New Jersey Nets for 60 points in a losing effort, becoming just the tenth player in NBA history to score 60 or more points in a single game. To that point no NBA player had returned to form after such a potentially career-ending injury, surgery, and loss of time. Despite averaging 22.7 points per game during his first six games back, he had not recovered his pre-injury explosiveness and was released by the Knicks at the end of the 1987 season. [7]     King retired with 19,655 points in 874 games, good for a 22.5 points per game average and number 16 on the all-time NBA scoring list at the time of his retirement. [13][15]     List of National Basketball Association career scoring leaders   List of National Basketball Association career turnovers leaders   List of individual National Basketball Association scoring leaders by season   List of National Basketball Association top rookie scoring averages   List of National Basketball Association players with most points in a game   ^ a b Lawrence, Mitch\",\n",
        "  'Dennis Rodman'],\n",
        " ['once upon a time season 6 episode list', '', '', '', '', ''],\n",
        " ['where is a georgia concealed carry permit valid',\n",
        "  'on public college campuses',\n",
        "  'Wyoming',\n",
        "  'The AZ concealed weapons permit (CWP) is honored by GA through a reciprocal agreement, while GA does not require a CCW (GA right to carry/open carry) for loaded possession in vehicles, while fishing, hunting, home, business. The GA law says you must have a CCW to openly carry. The AZ concealed weapons permit (CWP) is honored by GA through a reciprocal agreement, while GA does not require a CCW (GA right to carry/open carry) for loaded possession in vehicles, while fishing, hunting, home, business. The GA law says you must have a CCW to openly carry.',\n",
        "  'residents of Georgia',\n",
        "  'In parks, historic sites, and recreational areas;1   Within 150 feet of any polling place although an exception may apply for concealed carry permittees entering government buildings when they are open for business and where ingress into such buildings is not restricted or screened by security personnel. These location restrictions do not apply to a firearm possessed by a license holder if the firearm is under the license holder  s control in a motor vehicle or is in a locked compartment, container, or firearms rack in or on a motor vehicle parked in parking facility.4 A person with a valid license may also carry a handgun in parks, historic sites, and recreational areas, including in all publicly owned buildings located in such areas, and in wildlife management areas, and on public transportation, except where prohibited by federal law.5 Georgia also authorizes in airport terminals and aircraft, except where prohibited by federal law.6 It authorizes the governing body or authority of a place of worship to permit the carrying of weapons or long guns by license holders.7. And it authorizes a license holder to carry a weapon in a government building if the building is open for business and   where ingress into such building is not restricted or screened by security personnel.  8   A law'],\n",
        " ['when did the new maze runner movie come out',\n",
        "  'January 26, 2018',\n",
        "  'January 26, 2018',\n",
        "  'January 26, 2018',\n",
        "  'January 26, 2018',\n",
        "  'January 26, 2018'],\n",
        " ['how many players on a box lacrosse team', '19', 'six', 'six', 'six', 'six'],\n",
        " ['where are the upcoming olympics to be held',\n",
        "  'Beijing',\n",
        "  'Beijing',\n",
        "  'Beijing',\n",
        "  'Tokyo',\n",
        "  'Beijing'],\n",
        " ['when did the nba 3 second rule start',\n",
        "  '2001-02 season',\n",
        "  '2001 season',\n",
        "  '1936',\n",
        "  'to tame the impact of the newly legalized zone defense rules',\n",
        "  '2015-16'],\n",
        " ['when were the plus and minus signs first recorded',\n",
        "  '1481',\n",
        "  '1494',\n",
        "  'the late 15th century',\n",
        "  'Robert Recorde  s book,  The Whetstone of Witte',\n",
        "  '2002-12-12'],\n",
        " [\"where does the phrase bob's your uncle come from\",\n",
        "  'The origins are uncertain, but a common theory is that the expression arose after Conservative Prime Minister Robert Cecil known as Bob appointed his nephew Arthur Balfour as Chief Secretary for Ireland in 1887, an act of favoritism which was apparently both surprising and unpopular. Whatever other qualifications Balfour might have had,   Bob  s your uncle   was seen as the main one.',\n",
        "  'The origins are uncertain, but a common theory is that the expression arose after Conservative Prime Minister Robert Gascoyne-Cecil, 3rd Marquess of Salisbury (\"Bob\") appointed his nephew Arthur Balfour as Chief Secretary for Ireland in 1887, an act of nepotism, which was apparently both surprising and unpopular. Whatever other qualifications Balfour might have had, \"Bob\\'s your uncle\" was seen as the conclusive one.',\n",
        "  'The origins are uncertain, but a common theory is that the expression arose after Conservative Prime Minister Robert Gascoyne-Cecil, 3rd Marquess of Salisbury (\"Bob\") appointed his nephew Arthur Balfour as Chief Secretary for Ireland in 1887, an act of nepotism, which was apparently both surprising and unpopular. Whatever other qualifications Balfour might have had, \"Bob\\'s your uncle\" was seen as the conclusive one.',\n",
        "  'The origins are uncertain, but a common theory is that the expression arose after Conservative Prime Minister Robert Gascoyne-Cecil, 3rd Marquess of Salisbury (\"Bob\") appointed his nephew Arthur Balfour as Chief Secretary for Ireland in 1887, an act of nepotism, which was apparently both surprising and unpopular. Whatever other qualifications Balfour might have had, \"Bob\\'s your uncle\" was seen as the conclusive one.',\n",
        "  'The origins are uncertain, but a common theory is that the expression arose after Conservative Prime Minister Robert Gascoyne-Cecil, 3rd Marquess of Salisbury (\"Bob\") appointed his nephew Arthur Balfour as Chief Secretary for Ireland in 1887, an act of nepotism, which was apparently both surprising and unpopular. Whatever other qualifications Balfour might have had, \"Bob\\'s your uncle\" was seen as the conclusive one.'],\n",
        " ['the one where chandler and monica get engaged',\n",
        "  '26',\n",
        "  \"When Chandler gets home, Joey stops him in the hallway and tells him Monica left; that she'd packed a bag and was going to stay with her parents. Chandler becomes depressed, thinking he screwed everything up, but when he enters the apartment, he sees that Monica is there and has decorated the whole apartment with candles. Monica gets down on one knee and tries to propose to Chandler, but she starts crying so much that she can't finish it.\",\n",
        "  \"When Chandler gets home, Joey stops him in the hallway and tells him Monica left; that she'd packed a bag and was going to stay with her parents. Chandler becomes depressed, thinking he screwed everything up, but when he enters the apartment, he sees that Monica is there and has decorated the whole apartment with candles. Monica gets down on one knee and tries to propose to Chandler, but she starts crying so much that she can't finish it.\",\n",
        "  \"When Chandler gets home, Joey stops him in the hallway and tells him Monica left; that she'd packed a bag and was going to stay with her parents. Chandler becomes depressed, thinking he screwed everything up, but when he enters the apartment, he sees that Monica is there and has decorated the whole apartment with candles. Monica gets down on one knee and tries to propose to Chandler, but she starts crying so much that she can't finish it.\",\n",
        "  \"When Chandler gets home, Joey stops him in the hallway and tells him Monica left; that she'd packed a bag and was going to stay with her parents. Chandler becomes depressed, thinking he screwed everything up, but when he enters the apartment, he sees that Monica is there and has decorated the whole apartment with candles. Monica gets down on one knee and tries to propose to Chandler, but she starts crying so much that she can't finish it.\"],\n",
        " ['who won so you think you can dance 2016',\n",
        "  'Bailey Muñoz',\n",
        "  'Kida',\n",
        "  'Kida',\n",
        "  'Kida',\n",
        "  'Kida'],\n",
        " ['who plays norman bates in the tv show',\n",
        "  'Freddie Highmore',\n",
        "  'Freddie Highmore',\n",
        "  'Freddie Highmore',\n",
        "  'Freddie Highmore',\n",
        "  'Freddie Highmore'],\n",
        " ['when did usa start driving on the right',\n",
        "  '1792',\n",
        "  'late 1700s',\n",
        "  'When cars were invented, Henry Ford was a big influence in American driving customs as he built his Model T with the driver on the left side of the car, meaning drivers would have to drive on the right side of the road so their passengers could exit the car on the curb and not into oncoming traffic. Most countries followed America  s lead, such as Canada, Italy and Spain in the 1920  s, eastern Europe in 1930  s and Scandinavia in the 1960  s.',\n",
        "  '1908',\n",
        "  'S o m e t h i n g w e n t w r o n g. W a i t a m o m e n t a n d t r y a g a i n.'],\n",
        " ['name some components of the central nervous system (cns)',\n",
        "  'brain',\n",
        "  'brain',\n",
        "  'brain',\n",
        "  'brain',\n",
        "  'brain'],\n",
        " [\"who's the director of the price is right\",\n",
        "  'Adam Sandler',\n",
        "  'Adam Sandler',\n",
        "  'Adam Sandler',\n",
        "  'Adam Sandler',\n",
        "  'Adam Sandler'],\n",
        " ['bridge on the river kwai fact or fiction',\n",
        "  'largely fictional',\n",
        "  'based on the 1952 novel written by Pierre Boulle.',\n",
        "  'based on the 1952 novel written by Pierre Boulle.',\n",
        "  'based on the 1952 novel written by Pierre Boulle.',\n",
        "  'based on the 1952 novel written by Pierre Boulle.'],\n",
        " ['is hong kong a part of the commonwealth',\n",
        "  \"The transfer of sovereignty over Hong Kong in 1997 ended the territory's status as a part of the Commonwealth through the United Kingdom. Hong Kong has nevertheless continued to participate in some of the organisations of the Commonwealth family, such as the Commonwealth Lawyers Association (hosted the Commonwealth Lawyers Conference in 1983 and 2009), the Commonwealth Parliamentary Association (and the Westminster Seminar on Parliamentary Practice and Procedures), the Association of Commonwealth Universities and the Commonwealth Association of Legislative Counsel,[111][112] as well as the Commonwealth War Graves Commission (CWGC).\",\n",
        "  'Some countries and regions could also join the Commonwealth on the basis of having a constitutional historical link to an existing member of being part of the British Empire including: Afghanistan, Hong Kong, Iraq, Jordan, Kuwait, Myanmar, Oman, Qatar, Sudan, the United Arab Emirates, and the United States.',\n",
        "  'Some countries and regions could also join the Commonwealth on the basis of having a constitutional historical link to an existing member of being part of the British Empire including: Afghanistan, Hong Kong, Iraq, Jordan, Kuwait, Myanmar, Oman, Qatar, Sudan, the United Arab Emirates, and the United States.',\n",
        "  'Some countries and regions could also join the Commonwealth on the basis of having a constitutional historical link to an existing member of being part of the British Empire including: Afghanistan, Hong Kong, Iraq, Jordan, Kuwait, Myanmar, Oman, Qatar, Sudan, the United Arab Emirates, and the United States.',\n",
        "  'Some countries and regions could also join the Commonwealth on the basis of having a constitutional historical link to an existing member of being part of the British Empire including: Afghanistan, Hong Kong, Iraq, Jordan, Kuwait, Myanmar, Oman, Qatar, Sudan, the United Arab Emirates, and the United States.'],\n",
        " ['where can pulse be felt in the body',\n",
        "  'over an artery that lies near the surface of the skin',\n",
        "  'The best places to take your pulse are at your wrist',\n",
        "  'wrist',\n",
        "  'S o m e t h i n g w e n t w r o n g. W a i t a m o m e n t a n d t r y a g a i n.',\n",
        "  'S o m e t h i n g w e n t w r o n g. W a i t a m o m e n t a n d t r y a g a i n.'],\n",
        " ['why did argentina attack the falklands/malvinas islands',\n",
        "  'to capture the Falkland Islands',\n",
        "  'On 2 April 1982, Argentinian forces invaded the British overseas territory of the Falkland Islands. Argentina had claimed sovereignty over the islands for many years and their ruling military junta did not believe that Britain would attempt to regain the islands by force.',\n",
        "  '',\n",
        "  'as a means of promoting patriotic feeling and propping up its regime',\n",
        "  \"Argentina's original intention was to mount a quick, symbolic occupation, followed rapidly by a withdrawal, leaving only a small garrison to support the new military governor. Argentine assault units were indeed withdrawn to the mainland in the days following the invasion, but strong popular support and the rapid British reaction forced the Junta to change their objectives and reinforce the islands, since they could not politically afford to lose the islands once the British came out to fight. Admiral Lombardo feared that Operation Alpha would jeopardise the secret preparations for the Falkland landings, but Admiral Otero had close links to Admiral Anaya who approved Operation Alpha despite promising Admiral Lombardo he would cancel the operation. The Falkland Islands Governor and subsequently the Foreign Office passed a message back to the BAS team for passing to the captain of the ARA Bahia Buen Suceso. This was to the effect that the Argentine flag must be taken down and that they must report to the British administrator (Mr Stephen Martin, commander of the British Antarctic Survey Base) at Grytviken, to have their passports stamped (which they refused to do as it would acknowledge British sovereignty over the islands). The full party of Royal Marines was not landed until 31 March when it became apparent that Argentine forces intended to seize the Falkland Islands\"],\n",
        " ['how long does it take for the moon to go around earth',\n",
        "  '29.5 days',\n",
        "  'about one month',\n",
        "  'approximately 27 days',\n",
        "  \"about 27.32 days (a tropical month and sidereal month) and one revolution relative to the Sun in about 29.53 days (a synodic month). Earth and the Moon orbit about their barycentre (common center of mass), which lies about 4,670  km (2,900  mi) from Earth's center (about 73% of its radius), forming a satellite system called the Earth  Moon system. On average, the distance to the Moon is about 385,000  km (239,000  mi) from Earth's center, which corresponds to about 60 Earth radii or 1.282 light-seconds. With a mean orbital velocity of 1.022  km/s (0.635 miles/s),[9] the Moon covers a distance approximately its diameter, or about half a degree on the celestial sphere, each hour. The Moon's orbit around Earth has many variations (perturbations) due to the gravitational attraction of the Sun and planets, the study of which (lunar theory) has a long history. [10]     The orbit of the Moon is a nearly circular ellipse about the Earth (the semimajor and semiminor axes are 384,400  km and 383,800  km, respectively: a difference of only 0.16%). The lunar orbit's major axis    the longest diameter of the orbit, joining its nearest and farthest points, the perigee and apogee, respectively    makes one complete revolution every 8.85 Earth years, or 3,232.6054 days\",\n",
        "  \"about 27.32 days (a tropical month and sidereal month) and one revolution relative to the Sun in about 29.53 days (a synodic month). Earth and the Moon orbit about their barycentre (common center of mass), which lies about 4,670  km (2,900  mi) from Earth's center (about 73% of its radius), forming a satellite system called the Earth  Moon system. On average, the distance to the Moon is about 385,000  km (239,000  mi) from Earth's center, which corresponds to about 60 Earth radii or 1.282 light-seconds. With a mean orbital velocity of 1.022  km/s (0.635 miles/s),[9] the Moon covers a distance approximately its diameter, or about half a degree on the celestial sphere, each hour. The Moon's orbit around Earth has many variations (perturbations) due to the gravitational attraction of the Sun and planets, the study of which (lunar theory) has a long history. [10]     The orbit of the Moon is a nearly circular ellipse about the Earth (the semimajor and semiminor axes are 384,400  km and 383,800  km, respectively: a difference of only 0.16%). The lunar orbit's major axis    the longest diameter of the orbit, joining its nearest and farthest points, the perigee and apogee, respectively    makes one complete revolution every 8.85 Earth years, or 3,232.6054 days\"],\n",
        " ['who is the prime minister of republic of mauritius',\n",
        "  'Pravind Jugnauth',\n",
        "  'Pravind Jugnauth',\n",
        "  'Pravind Jugnauth',\n",
        "  'Pravind Jugnauth',\n",
        "  'Pravind Jugnauth'],\n",
        " ['what teams are in the fa cup final',\n",
        "  'Chelsea',\n",
        "  'Chelsea',\n",
        "  'Chelsea',\n",
        "  'Leicester City',\n",
        "  'Leicester City'],\n",
        " [\"where is a midsummer night's dream set\",\n",
        "  'partly in the city of Athens',\n",
        "  'the court of Athens and the woods',\n",
        "  'ancient Athens and the wood just outside it',\n",
        "  'Athens, Greece',\n",
        "  'ancient Athens'],\n",
        " ['when does the new series of black sails start',\n",
        "  'January 29, 2017',\n",
        "  'January 29, 2017',\n",
        "  'When does Black Sails season 5 come out? Starz has officially cancelled Black Sails tv series. Season 4 of Black Sails will be the last season. Was Black Sails renewed for season 5? No, Black Sails has been cancelled by Starz. Is Black Sails cancelled? Yes, Black Sails has been officially canceled.',\n",
        "  'Although Starz renewed  Black Sails  for season four, back in the summer of 2015, by  July of 2016, the premium cabler issued a press release announcing the  renewal was for the the pirate drama  s fourth and final season.',\n",
        "  'June 21, 2019'],\n",
        " ['who is the first person who went to moon',\n",
        "  'Neil Armstrong',\n",
        "  'Neil Armstrong',\n",
        "  'Apollo 11 (July 16  24, 1969) was the spaceflight that first landed humans on the Moon. Armstrong',\n",
        "  'Neil Armstrong',\n",
        "  'Neil Armstrong'],\n",
        " ['when did the first lego movie come out',\n",
        "  '2014',\n",
        "  'February 7, 2014',\n",
        "  '2019',\n",
        "  'September 2016',\n",
        "  '2014'],\n",
        " ['are pure metals made of atoms or ions',\n",
        "  'atoms',\n",
        "  'atoms',\n",
        "  'atoms',\n",
        "  'ions',\n",
        "  ''],\n",
        " ['what episode in victorious is give it up',\n",
        "  'Freak the Freak Out',\n",
        "  \"The episode ends where Jade and Beck are officially a couple again and Robbie finally gets the butterfly out of Cat's ear. Robbie gives in and sells Rex, but ends up regretting his decision.\",\n",
        "  \"Give it up, you can't win  'Cause I know where you been  Such a shame you don't put up a fight  That's a game that we play at the end of the night  It's the same old story but you never get it right  Give it up  Come a little closer  Come a little closer baby, baby  Come a little closer  Come a little closer baby, baby  Liz:  So stop trying to walk away  No, you won't ever leave me behind  Ariana:  Nooooo  You better believe  That I'm here to stay (Liz: That's right)  'Cause you're the shade  And I'm the sunshine  Ooooooh  Both:  Look at me, boy  'Cause I got you where I want you  Isn't it so exciting? Give it up, you can't win  'Cause I know where you been  Such a shame you don't put up a fight  That's a game that we play at the end of the night  It's the same old story but you never get it right  Give it up  [At Tori and Trina's house]  Tori: Okay, it says that you're supposed to take one of these antibiotics every six hours. Wanna shake you, wanna break you  Take the backseat, boy,  'Cause now I'm driving  Give it up, you can't win  'Cause I know where you been  Such a shame you don't put up a fight  That's a game that we play at the end of the night  It's the same old story  But you never get it right  Give it up, ohh whoa, yeah        \",\n",
        "  \"Give it up, you can't win  'Cause I know where you been  Such a shame you don't put up a fight  That's a game that we play at the end of the night  It's the same old story but you never get it right  Give it up  Come a little closer  Come a little closer baby, baby  Come a little closer  Come a little closer baby, baby  Liz:  So stop trying to walk away  No, you won't ever leave me behind  Ariana:  Nooooo  You better believe  That I'm here to stay (Liz: That's right)  'Cause you're the shade  And I'm the sunshine  Ooooooh  Both:  Look at me, boy  'Cause I got you where I want you  Isn't it so exciting? Give it up, you can't win  'Cause I know where you been  Such a shame you don't put up a fight  That's a game that we play at the end of the night  It's the same old story but you never get it right  Give it up  [At Tori and Trina's house]  Tori: Okay, it says that you're supposed to take one of these antibiotics every six hours. Wanna shake you, wanna break you  Take the backseat, boy,  'Cause now I'm driving  Give it up, you can't win  'Cause I know where you been  Such a shame you don't put up a fight  That's a game that we play at the end of the night  It's the same old story  But you never get it right  Give it up, ohh whoa, yeah        \",\n",
        "  \"Give it up, you can't win  'Cause I know where you been  Such a shame you don't put up a fight  That's a game that we play at the end of the night  It's the same old story but you never get it right  Give it up  Come a little closer  Come a little closer baby, baby  Come a little closer  Come a little closer baby, baby  Liz:  So stop trying to walk away  No, you won't ever leave me behind  Ariana:  Nooooo  You better believe  That I'm here to stay (Liz: That's right)  'Cause you're the shade  And I'm the sunshine  Ooooooh  Both:  Look at me, boy  'Cause I got you where I want you  Isn't it so exciting? Give it up, you can't win  'Cause I know where you been  Such a shame you don't put up a fight  That's a game that we play at the end of the night  It's the same old story but you never get it right  Give it up  [At Tori and Trina's house]  Tori: Okay, it says that you're supposed to take one of these antibiotics every six hours. Wanna shake you, wanna break you  Take the backseat, boy,  'Cause now I'm driving  Give it up, you can't win  'Cause I know where you been  Such a shame you don't put up a fight  That's a game that we play at the end of the night  It's the same old story  But you never get it right  Give it up, ohh whoa, yeah        \"],\n",
        " ['movement of molecules across a membrane powered by atp',\n",
        "  'Primary active transport moves ions across a membrane and creates a difference in charge across that membrane. The primary active transport system uses ATP to move a substance, such as an ion, into the cell, and often at the same time, a second substance is moved out of the cell. The sodium-potassium pump move potassium and sodium ions across the plasma membrane. ATP itself is formed through secondary active transport using a hydrogen ion gradient in the mitochondrion. The pocket pinches off, resulting in the particle being contained in a newly created vacuole that is formed from the plasma membrane.',\n",
        "  'active transport',\n",
        "  'Primary active transport',\n",
        "  'Active transport powered by adenosine triphosphate (ATP) is known as primary active transport',\n",
        "  'Active transport'],\n",
        " ['who sold manhattan to the dutch in 1626',\n",
        "  'Peter Minuit',\n",
        "  'Peter Minuit',\n",
        "  'Peter Minuit',\n",
        "  'Peter Minuit',\n",
        "  'Peter Minuit'],\n",
        " ['city of stars are you shining just for me meaning',\n",
        "  'a love letter to a place (Los Angeles), to a person (Sebastian to Mia, and Mia to Sebastian), and to love itself.',\n",
        "  'The A sections of   City of Stars   focus on the difficulty of forging connections in the modern metropolis of Los Angeles. There  s a certain deliberate ambiguity as to whether Sebastian and Mia are singing about each other, or about their careers:   City of stars / Are you shining just for me?   Is that a plea for love in a lonely place, or a call for individual recognition from an unforgiving city and its creative industries? The meaning becomes clearer in the song  s contrasting B section, as the piano accompaniment moves to a bright, major-key harmony and the lyrics express a romantic yearning in crystalline terms:   A look in somebody  s eyes / To light up the skies / To open the world and send me reeling.     ',\n",
        "  '\"City of Stars\" is a song performed by Ryan Gosling and Emma Stone in the film La La Land (2016). [...] I was just composing it from an emotional place and thinking about the tone. I would say the tone is hopeful, but melancholy at the same time. I was thinking about that idea a little bit and just trying to compose a melody that I thought was shapely and beautiful.',\n",
        "  'In my opinion, it  s just a wonderful film. Songs from the movie are stuck in memory almost immediately, especially the main theme City of Stars. Setting is the old-fashioned, almost dreamlike Los Angeles or La La Land as it called by the locals. Every detail on the screen has its own bright history in the lenses of cameras.',\n",
        "  'We personalize the universe and think that it is all happening for us. The city is busy with people who are desperate for love, though they dull their emotions through drinking and eating at the   in   places, they all are like little children, looking for love and affection, warmth and closeness. Because no one will ever be able to do that for you. It feels so good to know that someone cares and also excites you. It is wonderful and miraculous! Wonderful    This melts our hearts  !!'],\n",
        " ['who have been the winners of ink master',\n",
        "  'Bubba Irwin',\n",
        "  'Laura Marie Wachholder',\n",
        "  'Dave Navarro   Chris Núñez   Oliver Peck   Matt Knight (season 1)   Rick Robles (seasons 2  13)   Steven Weinstock   Glenda Hersh   Andrea Richter   40  83 minutes   Truly Original   Spike (2012  18)   Paramount Network (2018  20)   Paramount+ (revival)   Ink Master: Redemption   Ink Master: Angels   Ink Master: Grudge Match   ',\n",
        "  'Shane O  Neill',\n",
        "  'Jason Clay Dunn'],\n",
        " ['what year did the movie deuces come out',\n",
        "  'April 1, 2017',\n",
        "  'April Fools Day',\n",
        "  'Apr 18, 2017',\n",
        "  '',\n",
        "  ' what year did the movie deuces come out e r r o r c o d e : 1 0 2 0'],\n",
        " ['who is the present sport minister of india',\n",
        "  'Anurag Thakur',\n",
        "  'Anurag Thakur',\n",
        "  'Anurag Thakur',\n",
        "  'S',\n",
        "  'S'],\n",
        " ['who has the most followers on instagram in the world',\n",
        "  'National Geographic',\n",
        "  'Cristiano Ronaldo',\n",
        "  'Portuguese footballer Cristiano Ronaldo',\n",
        "  'Instagram',\n",
        "  'Khaby Lame'],\n",
        " ['where was life or something like it filmed',\n",
        "  'Vancouver',\n",
        "  'New York, USA',\n",
        "  'Seattle television station, Lanie thinks her life is perfect. But her perfect world starts unraveling after a homeless street seer (Tony Shalhoub) tells Lanie that she leads a meaningless existence, and will die the following week. From Regency Enterprises, Life or Something Like It (2002) is directed by Stephen Herek. Ambitious, glamorous and a top reporter at the That  s Seattle',\n",
        "  '',\n",
        "  ''],\n",
        " ['the highest post in police department of karnataka state is',\n",
        "  'Additional Director General of Police',\n",
        "  'the senior most IPS officer in the intelligence bureau',\n",
        "  'the senior most IPS officer in the intelligence bureau',\n",
        "  'the senior most IPS officer in the intelligence bureau',\n",
        "  'the senior most IPS officer in the intelligence bureau'],\n",
        " ['is it a bank holiday today in spain',\n",
        "  'NEXT year people in Spain will be treated to eight national Bank Holidays in addition to the holidays decided by each autonomous community. Full-time workers in Spain are entitled to 22 days paid leave a year, and some employers choose to include Bank Holidays. You can take all your holidays at once or divide it up, but Spain  s labor laws require that at least one period of holiday leave must be two weeks long. In 2022  there are eight national holidays for everyone in Spain and there is also an additional two other holidays that fall on a Sunday.',\n",
        "  'The government in Spain sets the Spanish national holidays each year, although Spanish bank holidays differ between each of the regions. While each city observes the national holidays in Spain, regional holidays are set by the local governments.',\n",
        "  \"New Year's Day is a public holiday in all countries that observe the Gregorian calendar,...     Epiphany  Jan 6,. Andalucía became an autonomous community of Spain on February 28th 1980     Public holidays are taken on the day they fall and not moved to the following weekend, if they fall on a Saturday or Sunday.\",\n",
        "  'Public holidays celebrated in Spain include a mix of religious (Roman Catholic), national and regional observances. If one of the \"national holidays\" happens to fall on a Sunday the regional governments    the autonomous communities of Spain    can choose an alternate holiday or they can allow local authorities to choose. Since 2010, Ceuta and Melilla, both autonomous cities of Spain, have declared the Muslim holiday of Eid al-Adha or Feast of the Sacrifice, as an official public holiday.',\n",
        "  'Note: May be replaced by the autonomous communities with another date.'],\n",
        " ['who played the bank robber in dirty harry',\n",
        "  'Albert Popwell',\n",
        "  'Albert Popwell',\n",
        "  'Albert Popwell',\n",
        "  'Starred in the first four \"Dirty Harry\" movies with Clint Eastwood. He portrayed four different characters in each of the \"Dirty Harry\" films. He was the bank robber in Dirty Harry (1971), a pimp in Magnum Force (1973), a black militant leader in The Enforcer (1976) and Harry\\'s partner in Sudden Impact (1983). Albert Popwell',\n",
        "  'Popwell was featured on many television series, but is perhaps best known for his appearances in films opposite Clint Eastwood, whom he acted with in five films, starting with Coogan\\'s Bluff (film) and in the first four films of the Dirty Harry series. Popwell was a wounded bank robber at the receiving end of Eastwood\\'s \"Do you feel lucky?\" monologue from Dirty Harry.'],\n",
        " ['what is the worth of the catholic church',\n",
        "  'more than $30 billion',\n",
        "  \"Bankers' best guesses about the  Vatican's wealth put it at $10 billion to $15 billion\",\n",
        "  '$6 billion',\n",
        "  '',\n",
        "  ''],\n",
        " ['where is the best farming soil in the us and where did all the dirt come from',\n",
        "  \"North America is blessed with a disproportionate share of the world's best agricultural soil. Our most essential and undervalued resource, soil is where the living world of biology meets the dead world of geology. The world's best agricultural soils are those that developed along with the native forests (ultisols and alfisols) and grasslands (mollisols) that long covered continents in the temperate regions. In these locations the addition of organic matter from leaf fall in forests or root growth in grasslands built up fertile soils with high agricultural capacity. And the best of these soils for agriculture are those developed on deposits of loess, windblown silt such as that covering much of the American Midwest. With a high proportion of finely ground, fresh mineral grains, soils developed on loess are renowned for their fertility. The same can't be said for soils in most of the world, where rock lies just one to several feet below ground.\",\n",
        "  \"Farming has destroyed a lot of the rich soil of America's Midwestern prairie. The most fertile topsoil is entirely gone from a third of all the land devoted to growing crops across the upper Midwest\",\n",
        "  \"The   Great Plains' of North America and the   Bread Basket' of Europe are some of the world's most productive agricultural soils because they developed under grassland vegetation, whose root biomass and decomposition resulted in SOM accumulation.\",\n",
        "  'The  mollisols',\n",
        "  'Conrad  s soil among the richest farmland in the world.'],\n",
        " ['the pair of hand drums used in indian classical music is called',\n",
        "  'The Tabla',\n",
        "  'tabla',\n",
        "  'tabla',\n",
        "  'The chenda',\n",
        "  'P'],\n",
        " ['where does the term petty officer come from',\n",
        "  'the old French word, petit meaning something small',\n",
        "  'Since entering the Coast Guard, I have chafed at the term   petty officer.   As a prior enlisted U.S. Army Air Cavalry member, I took pride when I was addressed as PFC or Specialist Moore, titles that eloquently  included me in the fighting unit. So I was taken aback when commissioned into the Coast Guard that I now was to call an experienced enlisted Coast Guardsman by the title of petty officer.',\n",
        "  'the Age of Sail',\n",
        "  'In medieval and later England just about every village had several \"petite\", \"pety\" or \"petty\" officials/officers who were subordinate to such major officials as the steward of sheriff. The petty officers were the assistants to the senior officials. Since the early seamen knew petty officers in their home villages they used the term to describe the minor officials aboard their ships. A ship\\'s Captain or Master chose his own Petty Officers who served at his pleasure. At the end of a voyage or whenever the ship\\'s crew was paid off and released the Petty Officers lost their positions and titles.',\n",
        "  'The full appellation \"Petty Officer 1st-Class\" or \"PO1\" in speech is generally used only when the \"first-class\" distinction be made, such as to distinguish between members with similar names but differing ranks, or on promotion parades. It is common practice to refer to the Petty Officer by this shorthand in all but the most formal correspondence (such as printing and inscription on awards). Often, the Petty Officer is just referred to by the shorthand designation, without using the surname.'],\n",
        " ['what do the colors of the olympic rings mean',\n",
        "  \"the colours composing every competing country's flag at the time\",\n",
        "  \"the colours composing every competing country's flag at the time\",\n",
        "  \"the colours composing every competing country's flag at the time\",\n",
        "  \"the colours composing every competing country's flag at the time\",\n",
        "  \"the colours composing every competing country's flag at the time\"]]"
      ]
    },
    {
      "cell_type": "markdown",
      "metadata": {
        "id": "NWVPxaLR8CaZ"
      },
      "source": [
        "`rank_pages(df_c[:10])`"
      ]
    },
    {
      "cell_type": "code",
      "execution_count": null,
      "metadata": {
        "id": "s_XvHzr_5V8K"
      },
      "outputs": [],
      "source": [
        "list_1= []\n",
        "df1=df1.fillna(\"\")\n",
        "for i in range(10):\n",
        "  q = df1['query'].iloc[i]\n",
        "  print(i)\n",
        "  print(\"Question: \", q)\n",
        "  print(\"Actual Answer:\" ,df['ans'].iloc[i])\n",
        "  for j in range(10):\n",
        "    p = df1[str(j)].iloc[i]\n",
        "    try:\n",
        "      printw(\"Answer\"+str(j)+\": \"+str(get_answer_1(q,p)))\n",
        "    except:\n",
        "      print(len(p.split(\" \")))\n",
        "      print(\"document shortening stricter required.\")"
      ]
    },
    {
      "cell_type": "markdown",
      "metadata": {
        "id": "t373VhK0nqY8"
      },
      "source": [
        "#Trials and Runs\n"
      ]
    },
    {
      "cell_type": "code",
      "execution_count": null,
      "metadata": {
        "colab": {
          "base_uri": "https://localhost:8080/",
          "height": 17
        },
        "id": "BOc8X6PcmVc5",
        "outputId": "2c1413c7-a7eb-4a5c-b87f-f7c6fcd60578"
      },
      "outputs": [
        {
          "data": {
            "text/html": [
              "\n",
              "  <style>\n",
              "    pre {\n",
              "        white-space: pre-wrap;\n",
              "    }\n",
              "  </style>\n",
              "  "
            ],
            "text/plain": [
              "<IPython.core.display.HTML object>"
            ]
          },
          "metadata": {},
          "output_type": "display_data"
        }
      ],
      "source": [
        "df = pd.read_csv('content_link.csv')"
      ]
    },
    {
      "cell_type": "code",
      "execution_count": null,
      "metadata": {
        "colab": {
          "base_uri": "https://localhost:8080/",
          "height": 17
        },
        "id": "_yWQeiNnMm55",
        "outputId": "20a4bc07-2e99-4080-a240-d32a59aee759"
      },
      "outputs": [
        {
          "data": {
            "text/html": [
              "\n",
              "  <style>\n",
              "    pre {\n",
              "        white-space: pre-wrap;\n",
              "    }\n",
              "  </style>\n",
              "  "
            ],
            "text/plain": [
              "<IPython.core.display.HTML object>"
            ]
          },
          "metadata": {},
          "output_type": "display_data"
        }
      ],
      "source": [
        "import pickle\n",
        "data = pickle.load(open('150_start.txt','rb'))\n",
        "q_l = [i[0] for i in data]\n",
        "a_l = [i[1] for i in data]"
      ]
    },
    {
      "cell_type": "code",
      "execution_count": null,
      "metadata": {
        "id": "NK4cG-OfOopB"
      },
      "outputs": [],
      "source": [
        "df1 = rank_passages_1(df_sub)"
      ]
    },
    {
      "cell_type": "code",
      "execution_count": null,
      "metadata": {
        "id": "hBie3tjKLoWH"
      },
      "outputs": [],
      "source": [
        "f0 = open(\"ans_2_0_1.txt\",'r')\n",
        "f1 = open(\"ans_2_1_1.txt\",'r')\n",
        "f2 = open(\"ans_2_2_1.txt\",'r')\n",
        "f3 = open(\"ans_2_3_1.txt\",'r')\n",
        "f4 = open(\"ans_2_4_1.txt\",'r')\n",
        "f = open(\"gold_ans_2.txt\",'r')\n",
        "list_2=[]\n",
        "\n",
        "for i in range(150):\n",
        "  list_2_temp=[]\n",
        "  list_2_temp.append(f.readline().strip())\n",
        "  list_2_temp.append(f0.readline().strip())\n",
        "  list_2_temp.append(f1.readline().strip())\n",
        "  list_2_temp.append(f2.readline().strip())\n",
        "  list_2_temp.append(f3.readline().strip())\n",
        "  list_2_temp.append(f4.readline().strip())\n",
        "  list_2.append(list_2_temp)\n",
        "\n",
        "\n",
        "f0.close()\n",
        "f1.close()\n",
        "f2.close()\n",
        "f3.close()\n",
        "f4.close()\n",
        "f.close()"
      ]
    },
    {
      "cell_type": "code",
      "execution_count": null,
      "metadata": {
        "id": "Rc6O_qGng8wN"
      },
      "outputs": [],
      "source": [
        "from google.colab import output\n",
        "for i,k in df.iterrows():\n",
        "  deli.deli_3()\n",
        "  for j in range(10):\n",
        "    print(k['query'])\n",
        "    print(k[str(j)+\"_Link\"])\n",
        "    print(k[str(j)+\"_Content\"])\n",
        "    input()\n",
        "    output.clear()"
      ]
    },
    {
      "cell_type": "code",
      "execution_count": null,
      "metadata": {
        "id": "aZHIzEzzYWoz"
      },
      "outputs": [],
      "source": [
        "\n",
        "\n",
        "def rank_pages_s(df_c):\n",
        "  df_c= df_c.fillna(\"Insufficient String\")\n",
        "  list_1= []\n",
        "  for i, k in df_c.iterrows():\n",
        "    print(i)\n",
        "    q = k['query']\n",
        "    temp_list = []\n",
        "    for j in range(10):\n",
        "      try:\n",
        "        c = k[str(j)]\n",
        "\n",
        "        # print((c))\n",
        "        try:\n",
        "          print(\"I am here\")\n",
        "          if(c == 'Insufficient String' or c ==' ' or c=='' ):\n",
        "            continue\n",
        "          print(len(nltk.sent_tokenize(c)))\n",
        "          ans, scores = get_answer_1(q,c)\n",
        "\n",
        "          temp_list.append((harmonic_mean(scores), j, ans))\n",
        "        except Exception as eeee:\n",
        "          print(\"Error at stage 1:\",eeee)\n",
        "          c = rank_sentences(q,c)\n",
        "          ans,scores = get_answer_1(q,c)\n",
        "          temp_list.append((harmonic_mean(scores), j, ans))\n",
        "      except:\n",
        "        print(\"skipped bcz it took time\")\n",
        "    temp_list = sorted(temp_list, reverse=True)\n",
        "    temp_list= temp_list[:3]\n",
        "    # print(temp_list)\n",
        "    temp_list = [ ii[2] for ii in temp_list]\n",
        "    list_temp =[q]\n",
        "    list_temp.extend(temp_list)\n",
        "    list_1.append(list_temp)\n",
        "  return list_1"
      ]
    },
    {
      "cell_type": "code",
      "execution_count": null,
      "metadata": {
        "id": "ezr2K3DlY_2H"
      },
      "outputs": [],
      "source": [
        "import torch\n",
        "from torch import nn\n",
        "from torch.autograd import Variable\n",
        "import torch\n",
        "\n",
        "import pickle\n",
        "\n",
        "temp = pickle.load(open('new_embeddings.pkl','rb'))\n",
        "\n",
        "vocab_size = len(temp)\n",
        "embedding =  nn.Embedding(vocab_size, 100)\n",
        "embed_list =[]\n",
        "for word in trainDS.vocab._id2word:\n",
        "  embed_list.append(temp[word])\n",
        "weight_matrix= np.array(embed_list)\n",
        "embedding.weight=  nn.Parameter(torch.from_numpy(weight_matrix).type(torch.FloatTensor), requires_grad = False)\n",
        "\n",
        "ckpt = torch.load(ckpt_path)\n",
        "epoch = ckpt['epoch']\n",
        "siamese.load_state_dict(ckpt['siamese'])\n",
        "optimizer.load_state_dict(ckpt['optimizer'])\n",
        "\n"
      ]
    },
    {
      "cell_type": "code",
      "execution_count": null,
      "metadata": {
        "id": "v7fnfD5LZaSn"
      },
      "outputs": [],
      "source": [
        "from torch import nn\n",
        "from torch.autograd import Variable\n",
        "import torch\n",
        "\n",
        "\n",
        "\n",
        "class LSTMEncoder(nn.Module):\n",
        "    def __init__(self, embed_size, batch_size, enc_h_size, enc_num_layers, enc_dir,enc_drop,emb_matrix):\n",
        "        super(LSTMEncoder, self).__init__()\n",
        "        self.embed_size = embed_size\n",
        "        self.batch_size = batch_size\n",
        "        self.hidden_size = enc_h_size\n",
        "        self.num_layers = enc_num_layers\n",
        "        self.bidir = enc_dir\n",
        "        if self.bidir:\n",
        "            self.direction = 2\n",
        "        else: self.direction = 1\n",
        "        self.dropout = enc_drop\n",
        "\n",
        "        self.embedding = emb_matrix\n",
        "        self.lstm = nn.LSTM(input_size=self.embed_size, hidden_size=self.hidden_size, dropout=self.dropout,\n",
        "                            num_layers=self.num_layers, bidirectional=self.bidir)\n",
        "\n",
        "    def initHiddenCell(self):\n",
        "        rand_hidden = Variable(torch.randn(self.direction * self.num_layers, self.batch_size, self.hidden_size))\n",
        "        rand_cell = Variable(torch.randn(self.direction * self.num_layers, self.batch_size, self.hidden_size))\n",
        "        return rand_hidden, rand_cell\n",
        "\n",
        "    def forward(self, input, hidden, cell):\n",
        "        input = self.embedding(input).view(1, 1, -1)\n",
        "        output, (hidden, cell) = self.lstm(input, (hidden, cell))\n",
        "        return output, hidden, cell\n",
        "\n",
        "\n",
        "class Siamese_lstm(nn.Module):\n",
        "    def __init__(self, fc_dim, embed_size, batch_size, enc_h_size, enc_num_layers, enc_dir,enc_drop,emb_matrix):\n",
        "        super(Siamese_lstm, self).__init__()\n",
        "\n",
        "        self.encoder = LSTMEncoder(embed_size, batch_size, enc_h_size, enc_num_layers, enc_dir,enc_drop,emb_matrix)\n",
        "        self.fc_dim = fc_dim\n",
        "\n",
        "        self.input_dim = 5 * self.encoder.direction * self.encoder.hidden_size\n",
        "        # print(self.input_dim)\n",
        "        # self.classifier = nn.Sequential(\n",
        "        #     nn.Linear(self.input_dim, self.fc_dim),\n",
        "        #     nn.Linear(self.fc_dim, 2)\n",
        "        # )\n",
        "        self.classifier = nn.Sequential(\n",
        "            nn.Linear(in_features= self.input_dim, out_features = int(self.input_dim/2)),\n",
        "            nn.Linear(self.input_dim//2, out_features= 2)\n",
        "        )\n",
        "\n",
        "    def forward(self, s1, s2):\n",
        "\n",
        "        # init hidden, cell\n",
        "        h1, c1 = self.encoder.initHiddenCell()\n",
        "        h2, c2 = self.encoder.initHiddenCell()\n",
        "\n",
        "        # input one by one\n",
        "\n",
        "        for i in range(len(s1)):\n",
        "\n",
        "            v1, h1, c1 = self.encoder(s1[i], h1, c1)\n",
        "\n",
        "        for j in range(len(s2)):\n",
        "            v2, h2, c2 = self.encoder(s2[j], h2, c2)\n",
        "        # print(v1.shape, v2.shape)\n",
        "        # utilize these two encoded vectors\n",
        "        features = torch.cat((v1,torch.abs(v1 - v2),v2,v1*v2, (v1+v2)/2), 2)\n",
        "        # features = v1-v2\n",
        "        # print(features.shape)\n",
        "        output = self.classifier(features)\n",
        "\n",
        "        return output"
      ]
    }
  ],
  "metadata": {
    "accelerator": "GPU",
    "colab": {
      "provenance": []
    },
    "kernelspec": {
      "display_name": "Python 3",
      "name": "python3"
    },
    "language_info": {
      "name": "python"
    },
    "widgets": {
      "application/vnd.jupyter.widget-state+json": {
        "e2fa744e9b3a401ca17b292b785dcc08": {
          "model_module": "@jupyter-widgets/controls",
          "model_name": "HBoxModel",
          "model_module_version": "1.5.0",
          "state": {
            "_view_name": "HBoxView",
            "_dom_classes": [],
            "_model_name": "HBoxModel",
            "_view_module": "@jupyter-widgets/controls",
            "_model_module_version": "1.5.0",
            "_view_count": null,
            "_view_module_version": "1.5.0",
            "box_style": "",
            "layout": "IPY_MODEL_db186dd1330c4bafadabcf43e9c02bc0",
            "_model_module": "@jupyter-widgets/controls",
            "children": [
              "IPY_MODEL_b2b903b5bfcc479dbeff9c3b7a381e77",
              "IPY_MODEL_30c26db25860467bb510ca92f56bc789",
              "IPY_MODEL_a34c3832bbdb4c99aed600ab78bacf1f"
            ]
          }
        },
        "db186dd1330c4bafadabcf43e9c02bc0": {
          "model_module": "@jupyter-widgets/base",
          "model_name": "LayoutModel",
          "model_module_version": "1.2.0",
          "state": {
            "_view_name": "LayoutView",
            "grid_template_rows": null,
            "right": null,
            "justify_content": null,
            "_view_module": "@jupyter-widgets/base",
            "overflow": null,
            "_model_module_version": "1.2.0",
            "_view_count": null,
            "flex_flow": null,
            "width": null,
            "min_width": null,
            "border": null,
            "align_items": null,
            "bottom": null,
            "_model_module": "@jupyter-widgets/base",
            "top": null,
            "grid_column": null,
            "overflow_y": null,
            "overflow_x": null,
            "grid_auto_flow": null,
            "grid_area": null,
            "grid_template_columns": null,
            "flex": null,
            "_model_name": "LayoutModel",
            "justify_items": null,
            "grid_row": null,
            "max_height": null,
            "align_content": null,
            "visibility": null,
            "align_self": null,
            "height": null,
            "min_height": null,
            "padding": null,
            "grid_auto_rows": null,
            "grid_gap": null,
            "max_width": null,
            "order": null,
            "_view_module_version": "1.2.0",
            "grid_template_areas": null,
            "object_position": null,
            "object_fit": null,
            "grid_auto_columns": null,
            "margin": null,
            "display": null,
            "left": null
          }
        },
        "b2b903b5bfcc479dbeff9c3b7a381e77": {
          "model_module": "@jupyter-widgets/controls",
          "model_name": "HTMLModel",
          "model_module_version": "1.5.0",
          "state": {
            "_view_name": "HTMLView",
            "style": "IPY_MODEL_9eee6748c62b4bf2a3d8136c4d342d3e",
            "_dom_classes": [],
            "description": "",
            "_model_name": "HTMLModel",
            "placeholder": "​",
            "_view_module": "@jupyter-widgets/controls",
            "_model_module_version": "1.5.0",
            "value": "Downloading: 100%",
            "_view_count": null,
            "_view_module_version": "1.5.0",
            "description_tooltip": null,
            "_model_module": "@jupyter-widgets/controls",
            "layout": "IPY_MODEL_c9447205653a4afb89a8c496cfd40e17"
          }
        },
        "30c26db25860467bb510ca92f56bc789": {
          "model_module": "@jupyter-widgets/controls",
          "model_name": "FloatProgressModel",
          "model_module_version": "1.5.0",
          "state": {
            "_view_name": "ProgressView",
            "style": "IPY_MODEL_9c5929b247014c7895f3edb7b03fd9a9",
            "_dom_classes": [],
            "description": "",
            "_model_name": "FloatProgressModel",
            "bar_style": "success",
            "max": 612,
            "_view_module": "@jupyter-widgets/controls",
            "_model_module_version": "1.5.0",
            "value": 612,
            "_view_count": null,
            "_view_module_version": "1.5.0",
            "orientation": "horizontal",
            "min": 0,
            "description_tooltip": null,
            "_model_module": "@jupyter-widgets/controls",
            "layout": "IPY_MODEL_959e2444c6e3471092389eb4424563e7"
          }
        },
        "a34c3832bbdb4c99aed600ab78bacf1f": {
          "model_module": "@jupyter-widgets/controls",
          "model_name": "HTMLModel",
          "model_module_version": "1.5.0",
          "state": {
            "_view_name": "HTMLView",
            "style": "IPY_MODEL_baaa64be3c3b485e8c29060a4cb2989d",
            "_dom_classes": [],
            "description": "",
            "_model_name": "HTMLModel",
            "placeholder": "​",
            "_view_module": "@jupyter-widgets/controls",
            "_model_module_version": "1.5.0",
            "value": " 612/612 [00:00&lt;00:00, 9.69kB/s]",
            "_view_count": null,
            "_view_module_version": "1.5.0",
            "description_tooltip": null,
            "_model_module": "@jupyter-widgets/controls",
            "layout": "IPY_MODEL_3774309076bc4ab08b36ecaded5de09a"
          }
        },
        "9eee6748c62b4bf2a3d8136c4d342d3e": {
          "model_module": "@jupyter-widgets/controls",
          "model_name": "DescriptionStyleModel",
          "model_module_version": "1.5.0",
          "state": {
            "_view_name": "StyleView",
            "_model_name": "DescriptionStyleModel",
            "description_width": "",
            "_view_module": "@jupyter-widgets/base",
            "_model_module_version": "1.5.0",
            "_view_count": null,
            "_view_module_version": "1.2.0",
            "_model_module": "@jupyter-widgets/controls"
          }
        },
        "c9447205653a4afb89a8c496cfd40e17": {
          "model_module": "@jupyter-widgets/base",
          "model_name": "LayoutModel",
          "model_module_version": "1.2.0",
          "state": {
            "_view_name": "LayoutView",
            "grid_template_rows": null,
            "right": null,
            "justify_content": null,
            "_view_module": "@jupyter-widgets/base",
            "overflow": null,
            "_model_module_version": "1.2.0",
            "_view_count": null,
            "flex_flow": null,
            "width": null,
            "min_width": null,
            "border": null,
            "align_items": null,
            "bottom": null,
            "_model_module": "@jupyter-widgets/base",
            "top": null,
            "grid_column": null,
            "overflow_y": null,
            "overflow_x": null,
            "grid_auto_flow": null,
            "grid_area": null,
            "grid_template_columns": null,
            "flex": null,
            "_model_name": "LayoutModel",
            "justify_items": null,
            "grid_row": null,
            "max_height": null,
            "align_content": null,
            "visibility": null,
            "align_self": null,
            "height": null,
            "min_height": null,
            "padding": null,
            "grid_auto_rows": null,
            "grid_gap": null,
            "max_width": null,
            "order": null,
            "_view_module_version": "1.2.0",
            "grid_template_areas": null,
            "object_position": null,
            "object_fit": null,
            "grid_auto_columns": null,
            "margin": null,
            "display": null,
            "left": null
          }
        },
        "9c5929b247014c7895f3edb7b03fd9a9": {
          "model_module": "@jupyter-widgets/controls",
          "model_name": "ProgressStyleModel",
          "model_module_version": "1.5.0",
          "state": {
            "_view_name": "StyleView",
            "_model_name": "ProgressStyleModel",
            "description_width": "",
            "_view_module": "@jupyter-widgets/base",
            "_model_module_version": "1.5.0",
            "_view_count": null,
            "_view_module_version": "1.2.0",
            "bar_color": null,
            "_model_module": "@jupyter-widgets/controls"
          }
        },
        "959e2444c6e3471092389eb4424563e7": {
          "model_module": "@jupyter-widgets/base",
          "model_name": "LayoutModel",
          "model_module_version": "1.2.0",
          "state": {
            "_view_name": "LayoutView",
            "grid_template_rows": null,
            "right": null,
            "justify_content": null,
            "_view_module": "@jupyter-widgets/base",
            "overflow": null,
            "_model_module_version": "1.2.0",
            "_view_count": null,
            "flex_flow": null,
            "width": null,
            "min_width": null,
            "border": null,
            "align_items": null,
            "bottom": null,
            "_model_module": "@jupyter-widgets/base",
            "top": null,
            "grid_column": null,
            "overflow_y": null,
            "overflow_x": null,
            "grid_auto_flow": null,
            "grid_area": null,
            "grid_template_columns": null,
            "flex": null,
            "_model_name": "LayoutModel",
            "justify_items": null,
            "grid_row": null,
            "max_height": null,
            "align_content": null,
            "visibility": null,
            "align_self": null,
            "height": null,
            "min_height": null,
            "padding": null,
            "grid_auto_rows": null,
            "grid_gap": null,
            "max_width": null,
            "order": null,
            "_view_module_version": "1.2.0",
            "grid_template_areas": null,
            "object_position": null,
            "object_fit": null,
            "grid_auto_columns": null,
            "margin": null,
            "display": null,
            "left": null
          }
        },
        "baaa64be3c3b485e8c29060a4cb2989d": {
          "model_module": "@jupyter-widgets/controls",
          "model_name": "DescriptionStyleModel",
          "model_module_version": "1.5.0",
          "state": {
            "_view_name": "StyleView",
            "_model_name": "DescriptionStyleModel",
            "description_width": "",
            "_view_module": "@jupyter-widgets/base",
            "_model_module_version": "1.5.0",
            "_view_count": null,
            "_view_module_version": "1.2.0",
            "_model_module": "@jupyter-widgets/controls"
          }
        },
        "3774309076bc4ab08b36ecaded5de09a": {
          "model_module": "@jupyter-widgets/base",
          "model_name": "LayoutModel",
          "model_module_version": "1.2.0",
          "state": {
            "_view_name": "LayoutView",
            "grid_template_rows": null,
            "right": null,
            "justify_content": null,
            "_view_module": "@jupyter-widgets/base",
            "overflow": null,
            "_model_module_version": "1.2.0",
            "_view_count": null,
            "flex_flow": null,
            "width": null,
            "min_width": null,
            "border": null,
            "align_items": null,
            "bottom": null,
            "_model_module": "@jupyter-widgets/base",
            "top": null,
            "grid_column": null,
            "overflow_y": null,
            "overflow_x": null,
            "grid_auto_flow": null,
            "grid_area": null,
            "grid_template_columns": null,
            "flex": null,
            "_model_name": "LayoutModel",
            "justify_items": null,
            "grid_row": null,
            "max_height": null,
            "align_content": null,
            "visibility": null,
            "align_self": null,
            "height": null,
            "min_height": null,
            "padding": null,
            "grid_auto_rows": null,
            "grid_gap": null,
            "max_width": null,
            "order": null,
            "_view_module_version": "1.2.0",
            "grid_template_areas": null,
            "object_position": null,
            "object_fit": null,
            "grid_auto_columns": null,
            "margin": null,
            "display": null,
            "left": null
          }
        },
        "1b3511af6ee840b2be66c107e08f5d7c": {
          "model_module": "@jupyter-widgets/controls",
          "model_name": "HBoxModel",
          "model_module_version": "1.5.0",
          "state": {
            "_view_name": "HBoxView",
            "_dom_classes": [],
            "_model_name": "HBoxModel",
            "_view_module": "@jupyter-widgets/controls",
            "_model_module_version": "1.5.0",
            "_view_count": null,
            "_view_module_version": "1.5.0",
            "box_style": "",
            "layout": "IPY_MODEL_ec57613214e942558438c1bb3138c550",
            "_model_module": "@jupyter-widgets/controls",
            "children": [
              "IPY_MODEL_34d9f7ee40b846ce821abbec4eb2fe3f",
              "IPY_MODEL_08e3fe5fbcf0416ab54c29a576685adb",
              "IPY_MODEL_d74103a82fd64f198cc4d99cbe583c37"
            ]
          }
        },
        "ec57613214e942558438c1bb3138c550": {
          "model_module": "@jupyter-widgets/base",
          "model_name": "LayoutModel",
          "model_module_version": "1.2.0",
          "state": {
            "_view_name": "LayoutView",
            "grid_template_rows": null,
            "right": null,
            "justify_content": null,
            "_view_module": "@jupyter-widgets/base",
            "overflow": null,
            "_model_module_version": "1.2.0",
            "_view_count": null,
            "flex_flow": null,
            "width": null,
            "min_width": null,
            "border": null,
            "align_items": null,
            "bottom": null,
            "_model_module": "@jupyter-widgets/base",
            "top": null,
            "grid_column": null,
            "overflow_y": null,
            "overflow_x": null,
            "grid_auto_flow": null,
            "grid_area": null,
            "grid_template_columns": null,
            "flex": null,
            "_model_name": "LayoutModel",
            "justify_items": null,
            "grid_row": null,
            "max_height": null,
            "align_content": null,
            "visibility": null,
            "align_self": null,
            "height": null,
            "min_height": null,
            "padding": null,
            "grid_auto_rows": null,
            "grid_gap": null,
            "max_width": null,
            "order": null,
            "_view_module_version": "1.2.0",
            "grid_template_areas": null,
            "object_position": null,
            "object_fit": null,
            "grid_auto_columns": null,
            "margin": null,
            "display": null,
            "left": null
          }
        },
        "34d9f7ee40b846ce821abbec4eb2fe3f": {
          "model_module": "@jupyter-widgets/controls",
          "model_name": "HTMLModel",
          "model_module_version": "1.5.0",
          "state": {
            "_view_name": "HTMLView",
            "style": "IPY_MODEL_88c6a66bb641418d99d7743a66153fe9",
            "_dom_classes": [],
            "description": "",
            "_model_name": "HTMLModel",
            "placeholder": "​",
            "_view_module": "@jupyter-widgets/controls",
            "_model_module_version": "1.5.0",
            "value": "Downloading: 100%",
            "_view_count": null,
            "_view_module_version": "1.5.0",
            "description_tooltip": null,
            "_model_module": "@jupyter-widgets/controls",
            "layout": "IPY_MODEL_27a039905a2d4ee3b04975096ee6f13e"
          }
        },
        "08e3fe5fbcf0416ab54c29a576685adb": {
          "model_module": "@jupyter-widgets/controls",
          "model_name": "FloatProgressModel",
          "model_module_version": "1.5.0",
          "state": {
            "_view_name": "ProgressView",
            "style": "IPY_MODEL_d90fb95bc22341f7bc69cdf519125ccf",
            "_dom_classes": [],
            "description": "",
            "_model_name": "FloatProgressModel",
            "bar_style": "success",
            "max": 17565609,
            "_view_module": "@jupyter-widgets/controls",
            "_model_module_version": "1.5.0",
            "value": 17565609,
            "_view_count": null,
            "_view_module_version": "1.5.0",
            "orientation": "horizontal",
            "min": 0,
            "description_tooltip": null,
            "_model_module": "@jupyter-widgets/controls",
            "layout": "IPY_MODEL_c4b219b9e621440690cbed55aa776a5b"
          }
        },
        "d74103a82fd64f198cc4d99cbe583c37": {
          "model_module": "@jupyter-widgets/controls",
          "model_name": "HTMLModel",
          "model_module_version": "1.5.0",
          "state": {
            "_view_name": "HTMLView",
            "style": "IPY_MODEL_488a3f6b4b33431f8d922d3e0ef34830",
            "_dom_classes": [],
            "description": "",
            "_model_name": "HTMLModel",
            "placeholder": "​",
            "_view_module": "@jupyter-widgets/controls",
            "_model_module_version": "1.5.0",
            "value": " 16.8M/16.8M [00:00&lt;00:00, 28.0MB/s]",
            "_view_count": null,
            "_view_module_version": "1.5.0",
            "description_tooltip": null,
            "_model_module": "@jupyter-widgets/controls",
            "layout": "IPY_MODEL_5bfb3e3e5bb64966a552dcf69206b432"
          }
        },
        "88c6a66bb641418d99d7743a66153fe9": {
          "model_module": "@jupyter-widgets/controls",
          "model_name": "DescriptionStyleModel",
          "model_module_version": "1.5.0",
          "state": {
            "_view_name": "StyleView",
            "_model_name": "DescriptionStyleModel",
            "description_width": "",
            "_view_module": "@jupyter-widgets/base",
            "_model_module_version": "1.5.0",
            "_view_count": null,
            "_view_module_version": "1.2.0",
            "_model_module": "@jupyter-widgets/controls"
          }
        },
        "27a039905a2d4ee3b04975096ee6f13e": {
          "model_module": "@jupyter-widgets/base",
          "model_name": "LayoutModel",
          "model_module_version": "1.2.0",
          "state": {
            "_view_name": "LayoutView",
            "grid_template_rows": null,
            "right": null,
            "justify_content": null,
            "_view_module": "@jupyter-widgets/base",
            "overflow": null,
            "_model_module_version": "1.2.0",
            "_view_count": null,
            "flex_flow": null,
            "width": null,
            "min_width": null,
            "border": null,
            "align_items": null,
            "bottom": null,
            "_model_module": "@jupyter-widgets/base",
            "top": null,
            "grid_column": null,
            "overflow_y": null,
            "overflow_x": null,
            "grid_auto_flow": null,
            "grid_area": null,
            "grid_template_columns": null,
            "flex": null,
            "_model_name": "LayoutModel",
            "justify_items": null,
            "grid_row": null,
            "max_height": null,
            "align_content": null,
            "visibility": null,
            "align_self": null,
            "height": null,
            "min_height": null,
            "padding": null,
            "grid_auto_rows": null,
            "grid_gap": null,
            "max_width": null,
            "order": null,
            "_view_module_version": "1.2.0",
            "grid_template_areas": null,
            "object_position": null,
            "object_fit": null,
            "grid_auto_columns": null,
            "margin": null,
            "display": null,
            "left": null
          }
        },
        "d90fb95bc22341f7bc69cdf519125ccf": {
          "model_module": "@jupyter-widgets/controls",
          "model_name": "ProgressStyleModel",
          "model_module_version": "1.5.0",
          "state": {
            "_view_name": "StyleView",
            "_model_name": "ProgressStyleModel",
            "description_width": "",
            "_view_module": "@jupyter-widgets/base",
            "_model_module_version": "1.5.0",
            "_view_count": null,
            "_view_module_version": "1.2.0",
            "bar_color": null,
            "_model_module": "@jupyter-widgets/controls"
          }
        },
        "c4b219b9e621440690cbed55aa776a5b": {
          "model_module": "@jupyter-widgets/base",
          "model_name": "LayoutModel",
          "model_module_version": "1.2.0",
          "state": {
            "_view_name": "LayoutView",
            "grid_template_rows": null,
            "right": null,
            "justify_content": null,
            "_view_module": "@jupyter-widgets/base",
            "overflow": null,
            "_model_module_version": "1.2.0",
            "_view_count": null,
            "flex_flow": null,
            "width": null,
            "min_width": null,
            "border": null,
            "align_items": null,
            "bottom": null,
            "_model_module": "@jupyter-widgets/base",
            "top": null,
            "grid_column": null,
            "overflow_y": null,
            "overflow_x": null,
            "grid_auto_flow": null,
            "grid_area": null,
            "grid_template_columns": null,
            "flex": null,
            "_model_name": "LayoutModel",
            "justify_items": null,
            "grid_row": null,
            "max_height": null,
            "align_content": null,
            "visibility": null,
            "align_self": null,
            "height": null,
            "min_height": null,
            "padding": null,
            "grid_auto_rows": null,
            "grid_gap": null,
            "max_width": null,
            "order": null,
            "_view_module_version": "1.2.0",
            "grid_template_areas": null,
            "object_position": null,
            "object_fit": null,
            "grid_auto_columns": null,
            "margin": null,
            "display": null,
            "left": null
          }
        },
        "488a3f6b4b33431f8d922d3e0ef34830": {
          "model_module": "@jupyter-widgets/controls",
          "model_name": "DescriptionStyleModel",
          "model_module_version": "1.5.0",
          "state": {
            "_view_name": "StyleView",
            "_model_name": "DescriptionStyleModel",
            "description_width": "",
            "_view_module": "@jupyter-widgets/base",
            "_model_module_version": "1.5.0",
            "_view_count": null,
            "_view_module_version": "1.2.0",
            "_model_module": "@jupyter-widgets/controls"
          }
        },
        "5bfb3e3e5bb64966a552dcf69206b432": {
          "model_module": "@jupyter-widgets/base",
          "model_name": "LayoutModel",
          "model_module_version": "1.2.0",
          "state": {
            "_view_name": "LayoutView",
            "grid_template_rows": null,
            "right": null,
            "justify_content": null,
            "_view_module": "@jupyter-widgets/base",
            "overflow": null,
            "_model_module_version": "1.2.0",
            "_view_count": null,
            "flex_flow": null,
            "width": null,
            "min_width": null,
            "border": null,
            "align_items": null,
            "bottom": null,
            "_model_module": "@jupyter-widgets/base",
            "top": null,
            "grid_column": null,
            "overflow_y": null,
            "overflow_x": null,
            "grid_auto_flow": null,
            "grid_area": null,
            "grid_template_columns": null,
            "flex": null,
            "_model_name": "LayoutModel",
            "justify_items": null,
            "grid_row": null,
            "max_height": null,
            "align_content": null,
            "visibility": null,
            "align_self": null,
            "height": null,
            "min_height": null,
            "padding": null,
            "grid_auto_rows": null,
            "grid_gap": null,
            "max_width": null,
            "order": null,
            "_view_module_version": "1.2.0",
            "grid_template_areas": null,
            "object_position": null,
            "object_fit": null,
            "grid_auto_columns": null,
            "margin": null,
            "display": null,
            "left": null
          }
        },
        "77cdb83bf81246198923d8fdc959bc28": {
          "model_module": "@jupyter-widgets/controls",
          "model_name": "HBoxModel",
          "model_module_version": "1.5.0",
          "state": {
            "_view_name": "HBoxView",
            "_dom_classes": [],
            "_model_name": "HBoxModel",
            "_view_module": "@jupyter-widgets/controls",
            "_model_module_version": "1.5.0",
            "_view_count": null,
            "_view_module_version": "1.5.0",
            "box_style": "",
            "layout": "IPY_MODEL_8b2e0850de114d9d910dd8ad3da02acc",
            "_model_module": "@jupyter-widgets/controls",
            "children": [
              "IPY_MODEL_5591c4bf8d194b45b9eb256ee4200fb9",
              "IPY_MODEL_e6daaf915b2547dfbc22668aa98e21ae",
              "IPY_MODEL_2e3285e85d36480abe8e28bb752ce8b5"
            ]
          }
        },
        "8b2e0850de114d9d910dd8ad3da02acc": {
          "model_module": "@jupyter-widgets/base",
          "model_name": "LayoutModel",
          "model_module_version": "1.2.0",
          "state": {
            "_view_name": "LayoutView",
            "grid_template_rows": null,
            "right": null,
            "justify_content": null,
            "_view_module": "@jupyter-widgets/base",
            "overflow": null,
            "_model_module_version": "1.2.0",
            "_view_count": null,
            "flex_flow": null,
            "width": null,
            "min_width": null,
            "border": null,
            "align_items": null,
            "bottom": null,
            "_model_module": "@jupyter-widgets/base",
            "top": null,
            "grid_column": null,
            "overflow_y": null,
            "overflow_x": null,
            "grid_auto_flow": null,
            "grid_area": null,
            "grid_template_columns": null,
            "flex": null,
            "_model_name": "LayoutModel",
            "justify_items": null,
            "grid_row": null,
            "max_height": null,
            "align_content": null,
            "visibility": null,
            "align_self": null,
            "height": null,
            "min_height": null,
            "padding": null,
            "grid_auto_rows": null,
            "grid_gap": null,
            "max_width": null,
            "order": null,
            "_view_module_version": "1.2.0",
            "grid_template_areas": null,
            "object_position": null,
            "object_fit": null,
            "grid_auto_columns": null,
            "margin": null,
            "display": null,
            "left": null
          }
        },
        "5591c4bf8d194b45b9eb256ee4200fb9": {
          "model_module": "@jupyter-widgets/controls",
          "model_name": "HTMLModel",
          "model_module_version": "1.5.0",
          "state": {
            "_view_name": "HTMLView",
            "style": "IPY_MODEL_d8f91aac72f74ddba4fb02805fe8e334",
            "_dom_classes": [],
            "description": "",
            "_model_name": "HTMLModel",
            "placeholder": "​",
            "_view_module": "@jupyter-widgets/controls",
            "_model_module_version": "1.5.0",
            "value": "Downloading: 100%",
            "_view_count": null,
            "_view_module_version": "1.5.0",
            "description_tooltip": null,
            "_model_module": "@jupyter-widgets/controls",
            "layout": "IPY_MODEL_a2d66bccb2ce41d28257039b9a4e5780"
          }
        },
        "e6daaf915b2547dfbc22668aa98e21ae": {
          "model_module": "@jupyter-widgets/controls",
          "model_name": "FloatProgressModel",
          "model_module_version": "1.5.0",
          "state": {
            "_view_name": "ProgressView",
            "style": "IPY_MODEL_be5ef67eb7014229bb1691f481ba7f3f",
            "_dom_classes": [],
            "description": "",
            "_model_name": "FloatProgressModel",
            "bar_style": "success",
            "max": 543,
            "_view_module": "@jupyter-widgets/controls",
            "_model_module_version": "1.5.0",
            "value": 543,
            "_view_count": null,
            "_view_module_version": "1.5.0",
            "orientation": "horizontal",
            "min": 0,
            "description_tooltip": null,
            "_model_module": "@jupyter-widgets/controls",
            "layout": "IPY_MODEL_dfa9972035404afab9e33ea38a3fd792"
          }
        },
        "2e3285e85d36480abe8e28bb752ce8b5": {
          "model_module": "@jupyter-widgets/controls",
          "model_name": "HTMLModel",
          "model_module_version": "1.5.0",
          "state": {
            "_view_name": "HTMLView",
            "style": "IPY_MODEL_718d305ae8b54c448a6fe57df7ee7a3c",
            "_dom_classes": [],
            "description": "",
            "_model_name": "HTMLModel",
            "placeholder": "​",
            "_view_module": "@jupyter-widgets/controls",
            "_model_module_version": "1.5.0",
            "value": " 543/543 [00:00&lt;00:00, 10.7kB/s]",
            "_view_count": null,
            "_view_module_version": "1.5.0",
            "description_tooltip": null,
            "_model_module": "@jupyter-widgets/controls",
            "layout": "IPY_MODEL_dfa5e0d5dcd94a3f8b929d35a20451a5"
          }
        },
        "d8f91aac72f74ddba4fb02805fe8e334": {
          "model_module": "@jupyter-widgets/controls",
          "model_name": "DescriptionStyleModel",
          "model_module_version": "1.5.0",
          "state": {
            "_view_name": "StyleView",
            "_model_name": "DescriptionStyleModel",
            "description_width": "",
            "_view_module": "@jupyter-widgets/base",
            "_model_module_version": "1.5.0",
            "_view_count": null,
            "_view_module_version": "1.2.0",
            "_model_module": "@jupyter-widgets/controls"
          }
        },
        "a2d66bccb2ce41d28257039b9a4e5780": {
          "model_module": "@jupyter-widgets/base",
          "model_name": "LayoutModel",
          "model_module_version": "1.2.0",
          "state": {
            "_view_name": "LayoutView",
            "grid_template_rows": null,
            "right": null,
            "justify_content": null,
            "_view_module": "@jupyter-widgets/base",
            "overflow": null,
            "_model_module_version": "1.2.0",
            "_view_count": null,
            "flex_flow": null,
            "width": null,
            "min_width": null,
            "border": null,
            "align_items": null,
            "bottom": null,
            "_model_module": "@jupyter-widgets/base",
            "top": null,
            "grid_column": null,
            "overflow_y": null,
            "overflow_x": null,
            "grid_auto_flow": null,
            "grid_area": null,
            "grid_template_columns": null,
            "flex": null,
            "_model_name": "LayoutModel",
            "justify_items": null,
            "grid_row": null,
            "max_height": null,
            "align_content": null,
            "visibility": null,
            "align_self": null,
            "height": null,
            "min_height": null,
            "padding": null,
            "grid_auto_rows": null,
            "grid_gap": null,
            "max_width": null,
            "order": null,
            "_view_module_version": "1.2.0",
            "grid_template_areas": null,
            "object_position": null,
            "object_fit": null,
            "grid_auto_columns": null,
            "margin": null,
            "display": null,
            "left": null
          }
        },
        "be5ef67eb7014229bb1691f481ba7f3f": {
          "model_module": "@jupyter-widgets/controls",
          "model_name": "ProgressStyleModel",
          "model_module_version": "1.5.0",
          "state": {
            "_view_name": "StyleView",
            "_model_name": "ProgressStyleModel",
            "description_width": "",
            "_view_module": "@jupyter-widgets/base",
            "_model_module_version": "1.5.0",
            "_view_count": null,
            "_view_module_version": "1.2.0",
            "bar_color": null,
            "_model_module": "@jupyter-widgets/controls"
          }
        },
        "dfa9972035404afab9e33ea38a3fd792": {
          "model_module": "@jupyter-widgets/base",
          "model_name": "LayoutModel",
          "model_module_version": "1.2.0",
          "state": {
            "_view_name": "LayoutView",
            "grid_template_rows": null,
            "right": null,
            "justify_content": null,
            "_view_module": "@jupyter-widgets/base",
            "overflow": null,
            "_model_module_version": "1.2.0",
            "_view_count": null,
            "flex_flow": null,
            "width": null,
            "min_width": null,
            "border": null,
            "align_items": null,
            "bottom": null,
            "_model_module": "@jupyter-widgets/base",
            "top": null,
            "grid_column": null,
            "overflow_y": null,
            "overflow_x": null,
            "grid_auto_flow": null,
            "grid_area": null,
            "grid_template_columns": null,
            "flex": null,
            "_model_name": "LayoutModel",
            "justify_items": null,
            "grid_row": null,
            "max_height": null,
            "align_content": null,
            "visibility": null,
            "align_self": null,
            "height": null,
            "min_height": null,
            "padding": null,
            "grid_auto_rows": null,
            "grid_gap": null,
            "max_width": null,
            "order": null,
            "_view_module_version": "1.2.0",
            "grid_template_areas": null,
            "object_position": null,
            "object_fit": null,
            "grid_auto_columns": null,
            "margin": null,
            "display": null,
            "left": null
          }
        },
        "718d305ae8b54c448a6fe57df7ee7a3c": {
          "model_module": "@jupyter-widgets/controls",
          "model_name": "DescriptionStyleModel",
          "model_module_version": "1.5.0",
          "state": {
            "_view_name": "StyleView",
            "_model_name": "DescriptionStyleModel",
            "description_width": "",
            "_view_module": "@jupyter-widgets/base",
            "_model_module_version": "1.5.0",
            "_view_count": null,
            "_view_module_version": "1.2.0",
            "_model_module": "@jupyter-widgets/controls"
          }
        },
        "dfa5e0d5dcd94a3f8b929d35a20451a5": {
          "model_module": "@jupyter-widgets/base",
          "model_name": "LayoutModel",
          "model_module_version": "1.2.0",
          "state": {
            "_view_name": "LayoutView",
            "grid_template_rows": null,
            "right": null,
            "justify_content": null,
            "_view_module": "@jupyter-widgets/base",
            "overflow": null,
            "_model_module_version": "1.2.0",
            "_view_count": null,
            "flex_flow": null,
            "width": null,
            "min_width": null,
            "border": null,
            "align_items": null,
            "bottom": null,
            "_model_module": "@jupyter-widgets/base",
            "top": null,
            "grid_column": null,
            "overflow_y": null,
            "overflow_x": null,
            "grid_auto_flow": null,
            "grid_area": null,
            "grid_template_columns": null,
            "flex": null,
            "_model_name": "LayoutModel",
            "justify_items": null,
            "grid_row": null,
            "max_height": null,
            "align_content": null,
            "visibility": null,
            "align_self": null,
            "height": null,
            "min_height": null,
            "padding": null,
            "grid_auto_rows": null,
            "grid_gap": null,
            "max_width": null,
            "order": null,
            "_view_module_version": "1.2.0",
            "grid_template_areas": null,
            "object_position": null,
            "object_fit": null,
            "grid_auto_columns": null,
            "margin": null,
            "display": null,
            "left": null
          }
        },
        "b062fd128ebf44b1bbc495da3aae1d97": {
          "model_module": "@jupyter-widgets/controls",
          "model_name": "HBoxModel",
          "model_module_version": "1.5.0",
          "state": {
            "_view_name": "HBoxView",
            "_dom_classes": [],
            "_model_name": "HBoxModel",
            "_view_module": "@jupyter-widgets/controls",
            "_model_module_version": "1.5.0",
            "_view_count": null,
            "_view_module_version": "1.5.0",
            "box_style": "",
            "layout": "IPY_MODEL_7b8da9da47f9410b90886cdec45047e4",
            "_model_module": "@jupyter-widgets/controls",
            "children": [
              "IPY_MODEL_420af110cd8d42e2940cd1017efd1ad7",
              "IPY_MODEL_bccad6db987f4d189b13f8cbc63449a4",
              "IPY_MODEL_79e911582a4a430b8d020eca3dbf21d2"
            ]
          }
        },
        "7b8da9da47f9410b90886cdec45047e4": {
          "model_module": "@jupyter-widgets/base",
          "model_name": "LayoutModel",
          "model_module_version": "1.2.0",
          "state": {
            "_view_name": "LayoutView",
            "grid_template_rows": null,
            "right": null,
            "justify_content": null,
            "_view_module": "@jupyter-widgets/base",
            "overflow": null,
            "_model_module_version": "1.2.0",
            "_view_count": null,
            "flex_flow": null,
            "width": null,
            "min_width": null,
            "border": null,
            "align_items": null,
            "bottom": null,
            "_model_module": "@jupyter-widgets/base",
            "top": null,
            "grid_column": null,
            "overflow_y": null,
            "overflow_x": null,
            "grid_auto_flow": null,
            "grid_area": null,
            "grid_template_columns": null,
            "flex": null,
            "_model_name": "LayoutModel",
            "justify_items": null,
            "grid_row": null,
            "max_height": null,
            "align_content": null,
            "visibility": null,
            "align_self": null,
            "height": null,
            "min_height": null,
            "padding": null,
            "grid_auto_rows": null,
            "grid_gap": null,
            "max_width": null,
            "order": null,
            "_view_module_version": "1.2.0",
            "grid_template_areas": null,
            "object_position": null,
            "object_fit": null,
            "grid_auto_columns": null,
            "margin": null,
            "display": null,
            "left": null
          }
        },
        "420af110cd8d42e2940cd1017efd1ad7": {
          "model_module": "@jupyter-widgets/controls",
          "model_name": "HTMLModel",
          "model_module_version": "1.5.0",
          "state": {
            "_view_name": "HTMLView",
            "style": "IPY_MODEL_e133741dbd7e4300805e862dab185c96",
            "_dom_classes": [],
            "description": "",
            "_model_name": "HTMLModel",
            "placeholder": "​",
            "_view_module": "@jupyter-widgets/controls",
            "_model_module_version": "1.5.0",
            "value": "Downloading: 100%",
            "_view_count": null,
            "_view_module_version": "1.5.0",
            "description_tooltip": null,
            "_model_module": "@jupyter-widgets/controls",
            "layout": "IPY_MODEL_ee83d3def5ce4d0ca5d1317a80a3f03c"
          }
        },
        "bccad6db987f4d189b13f8cbc63449a4": {
          "model_module": "@jupyter-widgets/controls",
          "model_name": "FloatProgressModel",
          "model_module_version": "1.5.0",
          "state": {
            "_view_name": "ProgressView",
            "style": "IPY_MODEL_f8d4a16c3cf1448aa3f4644ca45a0001",
            "_dom_classes": [],
            "description": "",
            "_model_name": "FloatProgressModel",
            "bar_style": "success",
            "max": 231508,
            "_view_module": "@jupyter-widgets/controls",
            "_model_module_version": "1.5.0",
            "value": 231508,
            "_view_count": null,
            "_view_module_version": "1.5.0",
            "orientation": "horizontal",
            "min": 0,
            "description_tooltip": null,
            "_model_module": "@jupyter-widgets/controls",
            "layout": "IPY_MODEL_ccb866266ac9451a8cd2180a7bcec63c"
          }
        },
        "79e911582a4a430b8d020eca3dbf21d2": {
          "model_module": "@jupyter-widgets/controls",
          "model_name": "HTMLModel",
          "model_module_version": "1.5.0",
          "state": {
            "_view_name": "HTMLView",
            "style": "IPY_MODEL_f1243adf3b18459cbde790487e71e286",
            "_dom_classes": [],
            "description": "",
            "_model_name": "HTMLModel",
            "placeholder": "​",
            "_view_module": "@jupyter-widgets/controls",
            "_model_module_version": "1.5.0",
            "value": " 226k/226k [00:00&lt;00:00, 714kB/s]",
            "_view_count": null,
            "_view_module_version": "1.5.0",
            "description_tooltip": null,
            "_model_module": "@jupyter-widgets/controls",
            "layout": "IPY_MODEL_8c85264461b549859380f71c351cf700"
          }
        },
        "e133741dbd7e4300805e862dab185c96": {
          "model_module": "@jupyter-widgets/controls",
          "model_name": "DescriptionStyleModel",
          "model_module_version": "1.5.0",
          "state": {
            "_view_name": "StyleView",
            "_model_name": "DescriptionStyleModel",
            "description_width": "",
            "_view_module": "@jupyter-widgets/base",
            "_model_module_version": "1.5.0",
            "_view_count": null,
            "_view_module_version": "1.2.0",
            "_model_module": "@jupyter-widgets/controls"
          }
        },
        "ee83d3def5ce4d0ca5d1317a80a3f03c": {
          "model_module": "@jupyter-widgets/base",
          "model_name": "LayoutModel",
          "model_module_version": "1.2.0",
          "state": {
            "_view_name": "LayoutView",
            "grid_template_rows": null,
            "right": null,
            "justify_content": null,
            "_view_module": "@jupyter-widgets/base",
            "overflow": null,
            "_model_module_version": "1.2.0",
            "_view_count": null,
            "flex_flow": null,
            "width": null,
            "min_width": null,
            "border": null,
            "align_items": null,
            "bottom": null,
            "_model_module": "@jupyter-widgets/base",
            "top": null,
            "grid_column": null,
            "overflow_y": null,
            "overflow_x": null,
            "grid_auto_flow": null,
            "grid_area": null,
            "grid_template_columns": null,
            "flex": null,
            "_model_name": "LayoutModel",
            "justify_items": null,
            "grid_row": null,
            "max_height": null,
            "align_content": null,
            "visibility": null,
            "align_self": null,
            "height": null,
            "min_height": null,
            "padding": null,
            "grid_auto_rows": null,
            "grid_gap": null,
            "max_width": null,
            "order": null,
            "_view_module_version": "1.2.0",
            "grid_template_areas": null,
            "object_position": null,
            "object_fit": null,
            "grid_auto_columns": null,
            "margin": null,
            "display": null,
            "left": null
          }
        },
        "f8d4a16c3cf1448aa3f4644ca45a0001": {
          "model_module": "@jupyter-widgets/controls",
          "model_name": "ProgressStyleModel",
          "model_module_version": "1.5.0",
          "state": {
            "_view_name": "StyleView",
            "_model_name": "ProgressStyleModel",
            "description_width": "",
            "_view_module": "@jupyter-widgets/base",
            "_model_module_version": "1.5.0",
            "_view_count": null,
            "_view_module_version": "1.2.0",
            "bar_color": null,
            "_model_module": "@jupyter-widgets/controls"
          }
        },
        "ccb866266ac9451a8cd2180a7bcec63c": {
          "model_module": "@jupyter-widgets/base",
          "model_name": "LayoutModel",
          "model_module_version": "1.2.0",
          "state": {
            "_view_name": "LayoutView",
            "grid_template_rows": null,
            "right": null,
            "justify_content": null,
            "_view_module": "@jupyter-widgets/base",
            "overflow": null,
            "_model_module_version": "1.2.0",
            "_view_count": null,
            "flex_flow": null,
            "width": null,
            "min_width": null,
            "border": null,
            "align_items": null,
            "bottom": null,
            "_model_module": "@jupyter-widgets/base",
            "top": null,
            "grid_column": null,
            "overflow_y": null,
            "overflow_x": null,
            "grid_auto_flow": null,
            "grid_area": null,
            "grid_template_columns": null,
            "flex": null,
            "_model_name": "LayoutModel",
            "justify_items": null,
            "grid_row": null,
            "max_height": null,
            "align_content": null,
            "visibility": null,
            "align_self": null,
            "height": null,
            "min_height": null,
            "padding": null,
            "grid_auto_rows": null,
            "grid_gap": null,
            "max_width": null,
            "order": null,
            "_view_module_version": "1.2.0",
            "grid_template_areas": null,
            "object_position": null,
            "object_fit": null,
            "grid_auto_columns": null,
            "margin": null,
            "display": null,
            "left": null
          }
        },
        "f1243adf3b18459cbde790487e71e286": {
          "model_module": "@jupyter-widgets/controls",
          "model_name": "DescriptionStyleModel",
          "model_module_version": "1.5.0",
          "state": {
            "_view_name": "StyleView",
            "_model_name": "DescriptionStyleModel",
            "description_width": "",
            "_view_module": "@jupyter-widgets/base",
            "_model_module_version": "1.5.0",
            "_view_count": null,
            "_view_module_version": "1.2.0",
            "_model_module": "@jupyter-widgets/controls"
          }
        },
        "8c85264461b549859380f71c351cf700": {
          "model_module": "@jupyter-widgets/base",
          "model_name": "LayoutModel",
          "model_module_version": "1.2.0",
          "state": {
            "_view_name": "LayoutView",
            "grid_template_rows": null,
            "right": null,
            "justify_content": null,
            "_view_module": "@jupyter-widgets/base",
            "overflow": null,
            "_model_module_version": "1.2.0",
            "_view_count": null,
            "flex_flow": null,
            "width": null,
            "min_width": null,
            "border": null,
            "align_items": null,
            "bottom": null,
            "_model_module": "@jupyter-widgets/base",
            "top": null,
            "grid_column": null,
            "overflow_y": null,
            "overflow_x": null,
            "grid_auto_flow": null,
            "grid_area": null,
            "grid_template_columns": null,
            "flex": null,
            "_model_name": "LayoutModel",
            "justify_items": null,
            "grid_row": null,
            "max_height": null,
            "align_content": null,
            "visibility": null,
            "align_self": null,
            "height": null,
            "min_height": null,
            "padding": null,
            "grid_auto_rows": null,
            "grid_gap": null,
            "max_width": null,
            "order": null,
            "_view_module_version": "1.2.0",
            "grid_template_areas": null,
            "object_position": null,
            "object_fit": null,
            "grid_auto_columns": null,
            "margin": null,
            "display": null,
            "left": null
          }
        },
        "09712088a9fc4c79809489681a473552": {
          "model_module": "@jupyter-widgets/controls",
          "model_name": "HBoxModel",
          "model_module_version": "1.5.0",
          "state": {
            "_view_name": "HBoxView",
            "_dom_classes": [],
            "_model_name": "HBoxModel",
            "_view_module": "@jupyter-widgets/controls",
            "_model_module_version": "1.5.0",
            "_view_count": null,
            "_view_module_version": "1.5.0",
            "box_style": "",
            "layout": "IPY_MODEL_4794b2253f3644418e99887c4b15f222",
            "_model_module": "@jupyter-widgets/controls",
            "children": [
              "IPY_MODEL_a7ceddbb863b442baa7a4b9c61d819fd",
              "IPY_MODEL_daab36d3d0574691b615cebde2e951db",
              "IPY_MODEL_d7f57e9016734daeafdf87829cc48430"
            ]
          }
        },
        "4794b2253f3644418e99887c4b15f222": {
          "model_module": "@jupyter-widgets/base",
          "model_name": "LayoutModel",
          "model_module_version": "1.2.0",
          "state": {
            "_view_name": "LayoutView",
            "grid_template_rows": null,
            "right": null,
            "justify_content": null,
            "_view_module": "@jupyter-widgets/base",
            "overflow": null,
            "_model_module_version": "1.2.0",
            "_view_count": null,
            "flex_flow": null,
            "width": null,
            "min_width": null,
            "border": null,
            "align_items": null,
            "bottom": null,
            "_model_module": "@jupyter-widgets/base",
            "top": null,
            "grid_column": null,
            "overflow_y": null,
            "overflow_x": null,
            "grid_auto_flow": null,
            "grid_area": null,
            "grid_template_columns": null,
            "flex": null,
            "_model_name": "LayoutModel",
            "justify_items": null,
            "grid_row": null,
            "max_height": null,
            "align_content": null,
            "visibility": null,
            "align_self": null,
            "height": null,
            "min_height": null,
            "padding": null,
            "grid_auto_rows": null,
            "grid_gap": null,
            "max_width": null,
            "order": null,
            "_view_module_version": "1.2.0",
            "grid_template_areas": null,
            "object_position": null,
            "object_fit": null,
            "grid_auto_columns": null,
            "margin": null,
            "display": null,
            "left": null
          }
        },
        "a7ceddbb863b442baa7a4b9c61d819fd": {
          "model_module": "@jupyter-widgets/controls",
          "model_name": "HTMLModel",
          "model_module_version": "1.5.0",
          "state": {
            "_view_name": "HTMLView",
            "style": "IPY_MODEL_a2e994ee969443f6ae89c2d7addecfc7",
            "_dom_classes": [],
            "description": "",
            "_model_name": "HTMLModel",
            "placeholder": "​",
            "_view_module": "@jupyter-widgets/controls",
            "_model_module_version": "1.5.0",
            "value": "Downloading: 100%",
            "_view_count": null,
            "_view_module_version": "1.5.0",
            "description_tooltip": null,
            "_model_module": "@jupyter-widgets/controls",
            "layout": "IPY_MODEL_9758bcd6f166496e9da0e677c4e8d085"
          }
        },
        "daab36d3d0574691b615cebde2e951db": {
          "model_module": "@jupyter-widgets/controls",
          "model_name": "FloatProgressModel",
          "model_module_version": "1.5.0",
          "state": {
            "_view_name": "ProgressView",
            "style": "IPY_MODEL_35594fb287fe4804af082fe7df2c3df2",
            "_dom_classes": [],
            "description": "",
            "_model_name": "FloatProgressModel",
            "bar_style": "success",
            "max": 112,
            "_view_module": "@jupyter-widgets/controls",
            "_model_module_version": "1.5.0",
            "value": 112,
            "_view_count": null,
            "_view_module_version": "1.5.0",
            "orientation": "horizontal",
            "min": 0,
            "description_tooltip": null,
            "_model_module": "@jupyter-widgets/controls",
            "layout": "IPY_MODEL_fc331a8532d442ec980089ded1ba8858"
          }
        },
        "d7f57e9016734daeafdf87829cc48430": {
          "model_module": "@jupyter-widgets/controls",
          "model_name": "HTMLModel",
          "model_module_version": "1.5.0",
          "state": {
            "_view_name": "HTMLView",
            "style": "IPY_MODEL_68591baa495b452ba22c11cbabb976c4",
            "_dom_classes": [],
            "description": "",
            "_model_name": "HTMLModel",
            "placeholder": "​",
            "_view_module": "@jupyter-widgets/controls",
            "_model_module_version": "1.5.0",
            "value": " 112/112 [00:00&lt;00:00, 1.95kB/s]",
            "_view_count": null,
            "_view_module_version": "1.5.0",
            "description_tooltip": null,
            "_model_module": "@jupyter-widgets/controls",
            "layout": "IPY_MODEL_9ff1e8cd69844c8a90a928318d99152a"
          }
        },
        "a2e994ee969443f6ae89c2d7addecfc7": {
          "model_module": "@jupyter-widgets/controls",
          "model_name": "DescriptionStyleModel",
          "model_module_version": "1.5.0",
          "state": {
            "_view_name": "StyleView",
            "_model_name": "DescriptionStyleModel",
            "description_width": "",
            "_view_module": "@jupyter-widgets/base",
            "_model_module_version": "1.5.0",
            "_view_count": null,
            "_view_module_version": "1.2.0",
            "_model_module": "@jupyter-widgets/controls"
          }
        },
        "9758bcd6f166496e9da0e677c4e8d085": {
          "model_module": "@jupyter-widgets/base",
          "model_name": "LayoutModel",
          "model_module_version": "1.2.0",
          "state": {
            "_view_name": "LayoutView",
            "grid_template_rows": null,
            "right": null,
            "justify_content": null,
            "_view_module": "@jupyter-widgets/base",
            "overflow": null,
            "_model_module_version": "1.2.0",
            "_view_count": null,
            "flex_flow": null,
            "width": null,
            "min_width": null,
            "border": null,
            "align_items": null,
            "bottom": null,
            "_model_module": "@jupyter-widgets/base",
            "top": null,
            "grid_column": null,
            "overflow_y": null,
            "overflow_x": null,
            "grid_auto_flow": null,
            "grid_area": null,
            "grid_template_columns": null,
            "flex": null,
            "_model_name": "LayoutModel",
            "justify_items": null,
            "grid_row": null,
            "max_height": null,
            "align_content": null,
            "visibility": null,
            "align_self": null,
            "height": null,
            "min_height": null,
            "padding": null,
            "grid_auto_rows": null,
            "grid_gap": null,
            "max_width": null,
            "order": null,
            "_view_module_version": "1.2.0",
            "grid_template_areas": null,
            "object_position": null,
            "object_fit": null,
            "grid_auto_columns": null,
            "margin": null,
            "display": null,
            "left": null
          }
        },
        "35594fb287fe4804af082fe7df2c3df2": {
          "model_module": "@jupyter-widgets/controls",
          "model_name": "ProgressStyleModel",
          "model_module_version": "1.5.0",
          "state": {
            "_view_name": "StyleView",
            "_model_name": "ProgressStyleModel",
            "description_width": "",
            "_view_module": "@jupyter-widgets/base",
            "_model_module_version": "1.5.0",
            "_view_count": null,
            "_view_module_version": "1.2.0",
            "bar_color": null,
            "_model_module": "@jupyter-widgets/controls"
          }
        },
        "fc331a8532d442ec980089ded1ba8858": {
          "model_module": "@jupyter-widgets/base",
          "model_name": "LayoutModel",
          "model_module_version": "1.2.0",
          "state": {
            "_view_name": "LayoutView",
            "grid_template_rows": null,
            "right": null,
            "justify_content": null,
            "_view_module": "@jupyter-widgets/base",
            "overflow": null,
            "_model_module_version": "1.2.0",
            "_view_count": null,
            "flex_flow": null,
            "width": null,
            "min_width": null,
            "border": null,
            "align_items": null,
            "bottom": null,
            "_model_module": "@jupyter-widgets/base",
            "top": null,
            "grid_column": null,
            "overflow_y": null,
            "overflow_x": null,
            "grid_auto_flow": null,
            "grid_area": null,
            "grid_template_columns": null,
            "flex": null,
            "_model_name": "LayoutModel",
            "justify_items": null,
            "grid_row": null,
            "max_height": null,
            "align_content": null,
            "visibility": null,
            "align_self": null,
            "height": null,
            "min_height": null,
            "padding": null,
            "grid_auto_rows": null,
            "grid_gap": null,
            "max_width": null,
            "order": null,
            "_view_module_version": "1.2.0",
            "grid_template_areas": null,
            "object_position": null,
            "object_fit": null,
            "grid_auto_columns": null,
            "margin": null,
            "display": null,
            "left": null
          }
        },
        "68591baa495b452ba22c11cbabb976c4": {
          "model_module": "@jupyter-widgets/controls",
          "model_name": "DescriptionStyleModel",
          "model_module_version": "1.5.0",
          "state": {
            "_view_name": "StyleView",
            "_model_name": "DescriptionStyleModel",
            "description_width": "",
            "_view_module": "@jupyter-widgets/base",
            "_model_module_version": "1.5.0",
            "_view_count": null,
            "_view_module_version": "1.2.0",
            "_model_module": "@jupyter-widgets/controls"
          }
        },
        "9ff1e8cd69844c8a90a928318d99152a": {
          "model_module": "@jupyter-widgets/base",
          "model_name": "LayoutModel",
          "model_module_version": "1.2.0",
          "state": {
            "_view_name": "LayoutView",
            "grid_template_rows": null,
            "right": null,
            "justify_content": null,
            "_view_module": "@jupyter-widgets/base",
            "overflow": null,
            "_model_module_version": "1.2.0",
            "_view_count": null,
            "flex_flow": null,
            "width": null,
            "min_width": null,
            "border": null,
            "align_items": null,
            "bottom": null,
            "_model_module": "@jupyter-widgets/base",
            "top": null,
            "grid_column": null,
            "overflow_y": null,
            "overflow_x": null,
            "grid_auto_flow": null,
            "grid_area": null,
            "grid_template_columns": null,
            "flex": null,
            "_model_name": "LayoutModel",
            "justify_items": null,
            "grid_row": null,
            "max_height": null,
            "align_content": null,
            "visibility": null,
            "align_self": null,
            "height": null,
            "min_height": null,
            "padding": null,
            "grid_auto_rows": null,
            "grid_gap": null,
            "max_width": null,
            "order": null,
            "_view_module_version": "1.2.0",
            "grid_template_areas": null,
            "object_position": null,
            "object_fit": null,
            "grid_auto_columns": null,
            "margin": null,
            "display": null,
            "left": null
          }
        }
      }
    }
  },
  "nbformat": 4,
  "nbformat_minor": 0
}
